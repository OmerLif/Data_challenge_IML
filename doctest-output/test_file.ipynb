{
 "cells": [
  {
   "cell_type": "code",
   "execution_count": 401,
   "metadata": {
    "collapsed": true
   },
   "outputs": [],
   "source": [
    "import numpy as np\n",
    "import pandas as pd\n",
    "import matplotlib.pyplot as plt\n",
    "import sklearn\n",
    "from sklearn.model_selection import train_test_split\n",
    "from sklearn.preprocessing import MinMaxScaler\n",
    "import seaborn as sns\n",
    "from sklearn.metrics import confusion_matrix, accuracy_score\n",
    "from sklearn.ensemble import RandomForestClassifier\n",
    "from sklearn.preprocessing import StandardScaler\n",
    "import featurewiz as fw\n",
    "np.random.seed(1234)\n",
    "from sklearn.feature_selection import SelectFromModel\n",
    "from sklearn.feature_selection import SelectKBest\n"
   ]
  },
  {
   "cell_type": "code",
   "execution_count": 381,
   "outputs": [
    {
     "name": "stdout",
     "output_type": "stream",
     "text": [
      "booking_datetime 0\n",
      "checkin_date 0\n",
      "hotel_star_rating 0\n",
      "charge_option 0\n",
      "guest_is_not_the_customer 0\n",
      "no_of_adults 0\n",
      "no_of_children 0\n",
      "request_extra_bed 0\n",
      "no_of_room 0\n",
      "original_selling_amount 0\n",
      "original_payment_type 0\n",
      "is_user_logged_in 0\n",
      "is_first_booking 0\n",
      "number_of_requests 0\n",
      "cancellation_datetime 0\n",
      "hotel_brand_code 43308\n",
      "hotel_chain_code 42855\n",
      "hotel_city_code 0\n",
      "is_cancelled 0\n",
      "cancel_policy_0D0N 0\n",
      "cancel_policy_14D100P 0\n",
      "cancel_policy_14D100P_100P 0\n",
      "cancel_policy_14D1N_100P 0\n",
      "cancel_policy_1D0N_100P 0\n",
      "cancel_policy_1D100P 0\n",
      "cancel_policy_1D100P_100P 0\n",
      "cancel_policy_1D1N_100P 0\n",
      "cancel_policy_1D1N_1N 0\n",
      "cancel_policy_1D20P_100P 0\n",
      "cancel_policy_1D50P_100P 0\n",
      "cancel_policy_2D100P 0\n",
      "cancel_policy_2D100P_100P 0\n",
      "cancel_policy_2D1N_100P 0\n",
      "cancel_policy_2D1N_1N 0\n",
      "cancel_policy_365D100P_100P 0\n",
      "cancel_policy_3D100P 0\n",
      "cancel_policy_3D100P_100P 0\n",
      "cancel_policy_3D1N_100P 0\n",
      "cancel_policy_3D1N_1D100P_100P 0\n",
      "cancel_policy_3D1N_1N 0\n",
      "cancel_policy_3D50P_100P 0\n",
      "cancel_policy_4D100P 0\n",
      "cancel_policy_4D100P_100P 0\n",
      "cancel_policy_5D100P 0\n",
      "cancel_policy_5D100P_100P 0\n",
      "cancel_policy_7D100P 0\n",
      "cancel_policy_7D100P_100P 0\n",
      "cancel_policy_7D1N_100P 0\n",
      "cancel_policy_7D1N_1N 0\n",
      "cancel_policy_7D1N_3D100P_100P 0\n",
      "cancel_policy_UNKNOWN 0\n",
      "Lead_day 0\n",
      "stay_len 0\n",
      "origin_country_code_AE 0\n",
      "origin_country_code_AU 0\n",
      "origin_country_code_CA 0\n",
      "origin_country_code_CN 0\n",
      "origin_country_code_DE 0\n",
      "origin_country_code_ES 0\n",
      "origin_country_code_FR 0\n",
      "origin_country_code_GB 0\n",
      "origin_country_code_HK 0\n",
      "origin_country_code_ID 0\n",
      "origin_country_code_IL 0\n",
      "origin_country_code_IN 0\n",
      "origin_country_code_IT 0\n",
      "origin_country_code_JP 0\n",
      "origin_country_code_KH 0\n",
      "origin_country_code_KR 0\n",
      "origin_country_code_MO 0\n",
      "origin_country_code_MY 0\n",
      "origin_country_code_NZ 0\n",
      "origin_country_code_PH 0\n",
      "origin_country_code_RU 0\n",
      "origin_country_code_SA 0\n",
      "origin_country_code_SG 0\n",
      "origin_country_code_TH 0\n",
      "origin_country_code_TR 0\n",
      "origin_country_code_TW 0\n",
      "origin_country_code_US 0\n",
      "origin_country_code_VN 0\n",
      "guest_national_Australia 0\n",
      "guest_national_Brunei Darussalam 0\n",
      "guest_national_Cambodia 0\n",
      "guest_national_Canada 0\n",
      "guest_national_China 0\n",
      "guest_national_France 0\n",
      "guest_national_Germany 0\n",
      "guest_national_Hong Kong 0\n",
      "guest_national_India 0\n",
      "guest_national_Indonesia 0\n",
      "guest_national_Israel 0\n",
      "guest_national_Italy 0\n",
      "guest_national_Japan 0\n",
      "guest_national_Macau 0\n",
      "guest_national_Malaysia 0\n",
      "guest_national_Myanmar 0\n",
      "guest_national_Netherlands 0\n",
      "guest_national_New Zealand 0\n",
      "guest_national_Norway 0\n",
      "guest_national_Oman 0\n",
      "guest_national_Pakistan 0\n",
      "guest_national_Philippines 0\n",
      "guest_national_Russia 0\n",
      "guest_national_Saudi Arabia 0\n",
      "guest_national_Singapore 0\n",
      "guest_national_South Africa 0\n",
      "guest_national_South Korea 0\n",
      "guest_national_Spain 0\n",
      "guest_national_Sweden 0\n",
      "guest_national_Switzerland 0\n",
      "guest_national_Taiwan 0\n",
      "guest_national_Thailand 0\n",
      "guest_national_Turkey 0\n",
      "guest_national_United Arab Emirates 0\n",
      "guest_national_United Kingdom 0\n",
      "guest_national_United States 0\n",
      "guest_national_Vietnam 0\n",
      "type_hotel_Apartment 0\n",
      "type_hotel_Bungalow 0\n",
      "type_hotel_Capsule Hotel 0\n",
      "type_hotel_Guest House / Bed & Breakfast 0\n",
      "type_hotel_Home 0\n",
      "type_hotel_Hostel 0\n",
      "type_hotel_Hotel 0\n",
      "type_hotel_Motel 0\n",
      "type_hotel_Resort 0\n",
      "type_hotel_Resort Villa 0\n",
      "type_hotel_Ryokan 0\n",
      "type_hotel_Serviced Apartment 0\n",
      "<class 'pandas.core.frame.DataFrame'>\n",
      "RangeIndex: 58588 entries, 0 to 58587\n",
      "Columns: 130 entries, booking_datetime to type_hotel_Serviced Apartment\n",
      "dtypes: bool(2), float64(4), int64(121), object(3)\n",
      "memory usage: 57.3+ MB\n",
      "None\n",
      "Index(['booking_datetime', 'checkin_date', 'hotel_star_rating',\n",
      "       'charge_option', 'guest_is_not_the_customer', 'no_of_adults',\n",
      "       'no_of_children', 'request_extra_bed', 'no_of_room',\n",
      "       'original_selling_amount',\n",
      "       ...\n",
      "       'type_hotel_Capsule Hotel', 'type_hotel_Guest House / Bed & Breakfast',\n",
      "       'type_hotel_Home', 'type_hotel_Hostel', 'type_hotel_Hotel',\n",
      "       'type_hotel_Motel', 'type_hotel_Resort', 'type_hotel_Resort Villa',\n",
      "       'type_hotel_Ryokan', 'type_hotel_Serviced Apartment'],\n",
      "      dtype='object', length=130)\n",
      "(58588, 130)\n"
     ]
    }
   ],
   "source": [
    "data = pd.read_csv(\"C:\\\\Users\\omerl\\OneDrive\\Documents\\GitHub\\Data_challenge_IML\\data_frame.csv\")\n",
    "data.drop(['Unnamed: 0'], axis=1, inplace=True)\n",
    "# print the count of missing values in each column\n",
    "for col in data.columns:\n",
    "    print(col, data[col].isnull().sum())\n",
    "# data.drop(['hotel_brand_code','hotel_chain_code', 'hotel_city_code'], axis=1, inplace=True)\n",
    "# drop all the rows with missing values\n",
    "\n",
    "print(data.info())\n",
    "print(data.columns)\n",
    "print(data.shape)\n"
   ],
   "metadata": {
    "collapsed": false,
    "pycharm": {
     "name": "#%%\n"
    }
   }
  },
  {
   "cell_type": "code",
   "execution_count": 382,
   "outputs": [
    {
     "name": "stdout",
     "output_type": "stream",
     "text": [
      "[('hotel_brand_code', 43308), ('hotel_chain_code', 42855), ('booking_datetime', 0), ('checkin_date', 0), ('hotel_star_rating', 0), ('charge_option', 0), ('guest_is_not_the_customer', 0), ('no_of_adults', 0), ('no_of_children', 0), ('request_extra_bed', 0), ('no_of_room', 0), ('original_selling_amount', 0), ('original_payment_type', 0), ('is_user_logged_in', 0), ('is_first_booking', 0), ('number_of_requests', 0), ('cancellation_datetime', 0), ('hotel_city_code', 0), ('is_cancelled', 0), ('cancel_policy_0D0N', 0), ('cancel_policy_14D100P', 0), ('cancel_policy_14D100P_100P', 0), ('cancel_policy_14D1N_100P', 0), ('cancel_policy_1D0N_100P', 0), ('cancel_policy_1D100P', 0), ('cancel_policy_1D100P_100P', 0), ('cancel_policy_1D1N_100P', 0), ('cancel_policy_1D1N_1N', 0), ('cancel_policy_1D20P_100P', 0), ('cancel_policy_1D50P_100P', 0), ('cancel_policy_2D100P', 0), ('cancel_policy_2D100P_100P', 0), ('cancel_policy_2D1N_100P', 0), ('cancel_policy_2D1N_1N', 0), ('cancel_policy_365D100P_100P', 0), ('cancel_policy_3D100P', 0), ('cancel_policy_3D100P_100P', 0), ('cancel_policy_3D1N_100P', 0), ('cancel_policy_3D1N_1D100P_100P', 0), ('cancel_policy_3D1N_1N', 0), ('cancel_policy_3D50P_100P', 0), ('cancel_policy_4D100P', 0), ('cancel_policy_4D100P_100P', 0), ('cancel_policy_5D100P', 0), ('cancel_policy_5D100P_100P', 0), ('cancel_policy_7D100P', 0), ('cancel_policy_7D100P_100P', 0), ('cancel_policy_7D1N_100P', 0), ('cancel_policy_7D1N_1N', 0), ('cancel_policy_7D1N_3D100P_100P', 0), ('cancel_policy_UNKNOWN', 0), ('Lead_day', 0), ('stay_len', 0), ('origin_country_code_AE', 0), ('origin_country_code_AU', 0), ('origin_country_code_CA', 0), ('origin_country_code_CN', 0), ('origin_country_code_DE', 0), ('origin_country_code_ES', 0), ('origin_country_code_FR', 0), ('origin_country_code_GB', 0), ('origin_country_code_HK', 0), ('origin_country_code_ID', 0), ('origin_country_code_IL', 0), ('origin_country_code_IN', 0), ('origin_country_code_IT', 0), ('origin_country_code_JP', 0), ('origin_country_code_KH', 0), ('origin_country_code_KR', 0), ('origin_country_code_MO', 0), ('origin_country_code_MY', 0), ('origin_country_code_NZ', 0), ('origin_country_code_PH', 0), ('origin_country_code_RU', 0), ('origin_country_code_SA', 0), ('origin_country_code_SG', 0), ('origin_country_code_TH', 0), ('origin_country_code_TR', 0), ('origin_country_code_TW', 0), ('origin_country_code_US', 0), ('origin_country_code_VN', 0), ('guest_national_Australia', 0), ('guest_national_Brunei Darussalam', 0), ('guest_national_Cambodia', 0), ('guest_national_Canada', 0), ('guest_national_China', 0), ('guest_national_France', 0), ('guest_national_Germany', 0), ('guest_national_Hong Kong', 0), ('guest_national_India', 0), ('guest_national_Indonesia', 0), ('guest_national_Israel', 0), ('guest_national_Italy', 0), ('guest_national_Japan', 0), ('guest_national_Macau', 0), ('guest_national_Malaysia', 0), ('guest_national_Myanmar', 0), ('guest_national_Netherlands', 0), ('guest_national_New Zealand', 0), ('guest_national_Norway', 0), ('guest_national_Oman', 0), ('guest_national_Pakistan', 0), ('guest_national_Philippines', 0), ('guest_national_Russia', 0), ('guest_national_Saudi Arabia', 0), ('guest_national_Singapore', 0), ('guest_national_South Africa', 0), ('guest_national_South Korea', 0), ('guest_national_Spain', 0), ('guest_national_Sweden', 0), ('guest_national_Switzerland', 0), ('guest_national_Taiwan', 0), ('guest_national_Thailand', 0), ('guest_national_Turkey', 0), ('guest_national_United Arab Emirates', 0), ('guest_national_United Kingdom', 0), ('guest_national_United States', 0), ('guest_national_Vietnam', 0), ('type_hotel_Apartment', 0), ('type_hotel_Bungalow', 0), ('type_hotel_Capsule Hotel', 0), ('type_hotel_Guest House / Bed & Breakfast', 0), ('type_hotel_Home', 0), ('type_hotel_Hostel', 0), ('type_hotel_Hotel', 0), ('type_hotel_Motel', 0), ('type_hotel_Resort', 0), ('type_hotel_Resort Villa', 0), ('type_hotel_Ryokan', 0), ('type_hotel_Serviced Apartment', 0)]\n"
     ]
    }
   ],
   "source": [
    "# create a list of tupels whth the coulumn and the count of missing values\n",
    "missing_values = [(col, data[col].isnull().sum()) for col in data.columns]\n",
    "# sort the list by the number of missing values\n",
    "missing_values = sorted(missing_values, key=lambda x: x[1], reverse=True)\n",
    "# print the missing value count\n",
    "print(missing_values)"
   ],
   "metadata": {
    "collapsed": false,
    "pycharm": {
     "name": "#%%\n"
    }
   }
  },
  {
   "cell_type": "code",
   "execution_count": 383,
   "outputs": [],
   "source": [
    "# cleaning the data remove missing values and duplicates\n",
    "data['cancellation_datetime'] = data['cancellation_datetime'].fillna('2022-02-01')\n",
    "data['cancellation_datetime'] = pd.to_datetime(data['cancellation_datetime'])\n",
    "filtered_df = data.loc[(data['cancellation_datetime'] <= '2018-09-29') | (data['cancellation_datetime'] == '2022-02-01')]\n",
    "filtered_df['booking_datetime'] = filtered_df['booking_datetime'].apply(pd.to_datetime)\n",
    "filtered_df['is_cancelled'] = (filtered_df['cancellation_datetime'] - filtered_df['booking_datetime']).dt.days\n",
    "filtered_df['is_cancelled'] = filtered_df['is_cancelled'].apply(lambda x: 1 if x<=44 and x >=35 else 0)\n",
    "filtered_df.drop(['cancellation_datetime', 'booking_datetime', 'checkin_date'], axis=1, inplace=True)\n",
    "data = filtered_df"
   ],
   "metadata": {
    "collapsed": false,
    "pycharm": {
     "name": "#%%\n"
    }
   }
  },
  {
   "cell_type": "code",
   "execution_count": 384,
   "outputs": [],
   "source": [
    "dummy_brand_code = pd.get_dummies(data['hotel_brand_code'], prefix=\"hotel_brand\")\n",
    "dummy_chain_code = pd.get_dummies(data['hotel_chain_code'], prefix=\"hotel_chain\")\n",
    "dummy_city = pd.get_dummies(data['hotel_city_code'], prefix=\"hotel_city\")\n",
    "dummy_data = pd.concat([dummy_brand_code, dummy_chain_code, dummy_city], axis=1)\n",
    "for col in dummy_data.columns:\n",
    "    if dummy_data[col].sum() < 50:\n",
    "        dummy_data.drop(col, axis=1, inplace=True)\n",
    "data = pd.concat([data, dummy_data], axis=1)\n",
    "# drop the columns that are not needed\n",
    "data.drop(['hotel_brand_code','hotel_chain_code', 'hotel_city_code'], axis=1, inplace=True)\n",
    "# drop rows with missing values\n",
    "data.dropna(inplace=True)"
   ],
   "metadata": {
    "collapsed": false,
    "pycharm": {
     "name": "#%%\n"
    }
   }
  },
  {
   "cell_type": "code",
   "execution_count": 385,
   "outputs": [
    {
     "name": "stdout",
     "output_type": "stream",
     "text": [
      "(58588, 439)\n",
      "<class 'pandas.core.frame.DataFrame'>\n",
      "Int64Index: 58588 entries, 0 to 58587\n",
      "Columns: 439 entries, hotel_star_rating to hotel_city_2799\n",
      "dtypes: bool(2), float64(2), int64(120), uint8(315)\n",
      "memory usage: 72.7 MB\n",
      "None\n"
     ]
    }
   ],
   "source": [
    "print(data.shape)\n",
    "print(data.info())\n",
    "# drop all the duplicates column\n",
    "data = data.loc[:,~data.columns.duplicated()]"
   ],
   "metadata": {
    "collapsed": false,
    "pycharm": {
     "name": "#%%\n"
    }
   }
  },
  {
   "cell_type": "code",
   "execution_count": 415,
   "outputs": [
    {
     "name": "stdout",
     "output_type": "stream",
     "text": [
      "(52729, 438) (5859, 438) (52729,) (5859,)\n",
      "0    58113\n",
      "1      475\n",
      "Name: is_cancelled, dtype: int64\n"
     ]
    }
   ],
   "source": [
    "y = data['is_cancelled']\n",
    "X = data.drop(['is_cancelled'], axis=1)\n",
    "X_scale = StandardScaler().fit_transform(X)\n",
    "X_train, X_test, y_train, y_test = train_test_split(X, y, train_size=0.9, test_size=0.1, random_state=1)\n",
    "print(X_train.shape, X_test.shape, y_train.shape, y_test.shape)\n",
    "print(data['is_cancelled'].value_counts())"
   ],
   "metadata": {
    "collapsed": false,
    "pycharm": {
     "name": "#%%\n"
    }
   }
  },
  {
   "cell_type": "code",
   "execution_count": 387,
   "outputs": [],
   "source": [
    "# SVM classifier"
   ],
   "metadata": {
    "collapsed": false,
    "pycharm": {
     "name": "#%%\n"
    }
   }
  },
  {
   "cell_type": "code",
   "execution_count": 388,
   "outputs": [],
   "source": [
    "# from sklearn.svm import SVC\n",
    "# model_SVC = SVC(kernel = 'rbf', random_state = 4)\n",
    "# model_SVC.fit(X_train, y_train)\n",
    "#\n",
    "# y_pred_svm = model_SVC.predict_proba(X_test)"
   ],
   "metadata": {
    "collapsed": false,
    "pycharm": {
     "name": "#%%\n"
    }
   }
  },
  {
   "cell_type": "code",
   "execution_count": 389,
   "outputs": [],
   "source": [
    "# Logistic Classifier"
   ],
   "metadata": {
    "collapsed": false,
    "pycharm": {
     "name": "#%%\n"
    }
   }
  },
  {
   "cell_type": "code",
   "execution_count": 416,
   "outputs": [],
   "source": [
    "from sklearn.linear_model import LogisticRegression\n",
    "model_logistic = LogisticRegression()\n",
    "model_logistic.fit(X_train, y_train)\n",
    "\n",
    "y_pred_logistic = model_logistic.predict_proba(X_test)"
   ],
   "metadata": {
    "collapsed": false,
    "pycharm": {
     "name": "#%%\n"
    }
   }
  },
  {
   "cell_type": "code",
   "execution_count": 391,
   "outputs": [],
   "source": [
    "#k nearest neighbors"
   ],
   "metadata": {
    "collapsed": false,
    "pycharm": {
     "name": "#%%\n"
    }
   }
  },
  {
   "cell_type": "code",
   "execution_count": 417,
   "outputs": [],
   "source": [
    "from sklearn.neighbors import KNeighborsClassifier\n",
    "neigh = KNeighborsClassifier(n_neighbors=5)\n",
    "neigh.fit(X_train, y_train)\n",
    "y_pred_neigh = neigh.predict_proba(X_test)"
   ],
   "metadata": {
    "collapsed": false,
    "pycharm": {
     "name": "#%%\n"
    }
   }
  },
  {
   "cell_type": "code",
   "execution_count": 395,
   "outputs": [
    {
     "name": "stdout",
     "output_type": "stream",
     "text": [
      "<class 'sklearn.feature_selection._from_model.SelectFromModel'>\n",
      "(52729, 219)\n",
      "(5859, 219)\n"
     ]
    }
   ],
   "source": [
    "# feature selection with sklearn random forest\n",
    "from sklearn.ensemble import RandomForestClassifier\n",
    "from sklearn.feature_selection import SelectFromModel\n",
    "sel = SelectFromModel(RandomForestClassifier(n_estimators=200, criterion='entropy'), threshold='median')\n",
    "sel.fit(X_train, y_train)\n",
    "X_train_new = sel.transform(X_train)\n",
    "X_test_new = sel.transform(X_test)\n",
    "print(type(sel))\n",
    "print(X_train_new.shape)\n",
    "print(X_test_new.shape)\n"
   ],
   "metadata": {
    "collapsed": false,
    "pycharm": {
     "name": "#%%\n"
    }
   }
  },
  {
   "cell_type": "code",
   "execution_count": 425,
   "outputs": [
    {
     "name": "stdout",
     "output_type": "stream",
     "text": [
      "(5859, 219)\n"
     ]
    }
   ],
   "source": [
    "from sklearn.ensemble import RandomForestClassifier\n",
    "forest = RandomForestClassifier(n_estimators=190,criterion='entropy')\n",
    "forest.fit(X_train_new, y_train)\n",
    "y_pred_forest = forest.predict_proba(X_test_new)\n",
    "print(X_test_new.shape)"
   ],
   "metadata": {
    "collapsed": false,
    "pycharm": {
     "name": "#%%\n"
    }
   }
  },
  {
   "cell_type": "code",
   "execution_count": 426,
   "outputs": [
    {
     "name": "stdout",
     "output_type": "stream",
     "text": [
      "Training Accuracy is:  0.999962070208045\n",
      "Testing Accuracy is:  0.9924901860385731\n",
      "AUC Score is:  0.8573806520658946\n"
     ]
    }
   ],
   "source": [
    "#Plot ROC and compare AUC\n",
    "from sklearn.metrics import roc_curve, auc, roc_auc_score\n",
    "print(\"Training Accuracy is: \", forest.score(X_train_new, y_train))\n",
    "print(\"Testing Accuracy is: \", forest.score(X_test_new, y_test))\n",
    "y_pred_forest = y_pred_forest[:,1]\n",
    "fpr, tpr, thresholds = roc_curve(y_test, y_pred_forest)\n",
    "print(\"AUC Score is: \", roc_auc_score(y_test, y_pred_forest))"
   ],
   "metadata": {
    "collapsed": false,
    "pycharm": {
     "name": "#%%\n"
    }
   }
  },
  {
   "cell_type": "code",
   "execution_count": 398,
   "outputs": [
    {
     "data": {
      "text/plain": "<Figure size 500x500 with 1 Axes>",
      "image/png": "[encoded data removed]"
     },
     "metadata": {
      "needs_background": "light"
     },
     "output_type": "display_data"
    }
   ],
   "source": [
    "from sklearn.metrics import roc_curve, auc, roc_auc_score\n",
    "y_pred_logistic = y_pred_logistic[:,1]\n",
    "y_pred_neigh = y_pred_neigh[:,1]\n",
    "y_pred_forest= y_pred_forest\n",
    "\n",
    "logistic_fpr, logistic_tpr, threshold_test = roc_curve(y_test, y_pred_logistic)\n",
    "auc_logistic = roc_auc_score(y_test, y_pred_logistic)\n",
    "\n",
    "neigh_fpr, neigh_tpr, neigh_threshold = roc_curve(y_test, y_pred_neigh)\n",
    "auc_neigh = roc_auc_score(y_test, y_pred_neigh)\n",
    "\n",
    "forest_fpr, forest_tpr, forest_threshold = roc_curve(y_test, y_pred_forest)\n",
    "auc_forest = roc_auc_score(y_test, y_pred_forest)\n",
    "\n",
    "plt.figure(figsize=(5, 5), dpi=100)\n",
    "# plt.plot(svm_fpr, svm_tpr, linestyle='-', label='SVM (auc = %0.3f)' % auc_svm)\n",
    "plt.plot(logistic_fpr, logistic_tpr, marker='.', label='Logistic (auc = %0.3f)' % auc_logistic)\n",
    "plt.plot(neigh_fpr, neigh_tpr, marker='.', label='neigh (auc = %0.3f)' % auc_neigh)\n",
    "plt.plot(forest_fpr, forest_tpr, marker='.', label='forest (auc = %0.3f)' % auc_forest)\n",
    "\n",
    "plt.xlabel('False Positive Rate -->')\n",
    "plt.ylabel('True Positive Rate -->')\n",
    "\n",
    "plt.legend()\n",
    "\n",
    "plt.show()"
   ],
   "metadata": {
    "collapsed": false,
    "pycharm": {
     "name": "#%%\n"
    }
   }
  },
  {
   "cell_type": "code",
   "execution_count": 399,
   "outputs": [
    {
     "name": "stdout",
     "output_type": "stream",
     "text": [
      "(52729, 438) (5859, 438) (52729,) (5859,)\n"
     ]
    }
   ],
   "source": [
    "print(X_train.shape, X_test.shape, y_train.shape, y_test.shape)"
   ],
   "metadata": {
    "collapsed": false,
    "pycharm": {
     "name": "#%%\n"
    }
   }
  },
  {
   "cell_type": "code",
   "execution_count": 410,
   "outputs": [
    {
     "name": "stdout",
     "output_type": "stream",
     "text": [
      "(58588, 439)\n"
     ]
    }
   ],
   "source": [
    "print(data.shape)"
   ],
   "metadata": {
    "collapsed": false,
    "pycharm": {
     "name": "#%%\n"
    }
   }
  },
  {
   "cell_type": "code",
   "execution_count": 411,
   "outputs": [
    {
     "name": "stdout",
     "output_type": "stream",
     "text": [
      "Index(['hotel_star_rating', 'charge_option', 'guest_is_not_the_customer',\n",
      "       'no_of_adults', 'no_of_children', 'request_extra_bed', 'no_of_room',\n",
      "       'original_selling_amount', 'original_payment_type', 'is_user_logged_in',\n",
      "       ...\n",
      "       'hotel_city_2649', 'hotel_city_2667', 'hotel_city_2728',\n",
      "       'hotel_city_2733', 'hotel_city_2737', 'hotel_city_2782',\n",
      "       'hotel_city_2783', 'hotel_city_2796', 'hotel_city_2797',\n",
      "       'hotel_city_2799'],\n",
      "      dtype='object', length=439)\n"
     ]
    }
   ],
   "source": [
    "print(data.columns)"
   ],
   "metadata": {
    "collapsed": false,
    "pycharm": {
     "name": "#%%\n"
    }
   }
  },
  {
   "cell_type": "code",
   "execution_count": 412,
   "outputs": [
    {
     "name": "stdout",
     "output_type": "stream",
     "text": [
      "0    0\n",
      "1    0\n",
      "2    0\n",
      "3    0\n",
      "4    0\n",
      "5    0\n",
      "6    0\n",
      "7    0\n",
      "8    0\n",
      "9    0\n",
      "Name: is_cancelled, dtype: int64\n"
     ]
    }
   ],
   "source": [
    "print(data['is_cancelled'].head(10))"
   ],
   "metadata": {
    "collapsed": false,
    "pycharm": {
     "name": "#%%\n"
    }
   }
  },
  {
   "cell_type": "code",
   "execution_count": 435,
   "outputs": [],
   "source": [
    "# write data to csv\n",
    "data.to_csv('train_data.csv', index=False)\n"
   ],
   "metadata": {
    "collapsed": false,
    "pycharm": {
     "name": "#%%\n"
    }
   }
  },
  {
   "cell_type": "code",
   "execution_count": 429,
   "outputs": [
    {
     "name": "stdout",
     "output_type": "stream",
     "text": [
      "finish\n"
     ]
    }
   ],
   "source": [
    "print(\"finish\")"
   ],
   "metadata": {
    "collapsed": false,
    "pycharm": {
     "name": "#%%\n"
    }
   }
  },
  {
   "cell_type": "code",
   "execution_count": null,
   "outputs": [],
   "source": [],
   "metadata": {
    "collapsed": false,
    "pycharm": {
     "name": "#%%\n"
    }
   }
  }
 ],
 "metadata": {
  "kernelspec": {
   "display_name": "Python 3",
   "language": "python",
   "name": "python3"
  },
  "language_info": {
   "codemirror_mode": {
    "name": "ipython",
    "version": 2
   },
   "file_extension": ".py",
   "mimetype": "text/x-python",
   "name": "python",
   "nbconvert_exporter": "python",
   "pygments_lexer": "ipython2",
   "version": "2.7.6"
  }
 },
 "nbformat": 4,
 "nbformat_minor": 0
}