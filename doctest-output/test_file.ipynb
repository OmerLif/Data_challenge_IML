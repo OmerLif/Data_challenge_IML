{
 "cells": [
  {
   "cell_type": "code",
   "execution_count": 169,
   "metadata": {
    "collapsed": true
   },
   "outputs": [],
   "source": [
    "import numpy as np\n",
    "import pandas as pd\n",
    "import matplotlib.pyplot as plt\n",
    "import sklearn\n",
    "from sklearn.model_selection import train_test_split\n",
    "from sklearn.preprocessing import MinMaxScaler\n",
    "import seaborn as sns\n",
    "from sklearn.metrics import confusion_matrix, accuracy_score"
   ]
  },
  {
   "cell_type": "code",
   "execution_count": 170,
   "outputs": [
    {
     "name": "stdout",
     "output_type": "stream",
     "text": [
      "Index(['Unnamed: 0', 'booking_datetime', 'checkin_date', 'hotel_star_rating',\n",
      "       'charge_option', 'guest_is_not_the_customer', 'no_of_adults',\n",
      "       'no_of_children', 'request_extra_bed', 'no_of_room',\n",
      "       'original_selling_amount', 'original_payment_type', 'is_user_logged_in',\n",
      "       'is_first_booking', 'number_of_requests', 'cancellation_datetime',\n",
      "       'hotel_brand_code', 'hotel_chain_code', 'hotel_city_code',\n",
      "       'is_cancelled', 'cancel_policy_365D100P_100P', 'Lead_day', 'stay_len',\n",
      "       'origin_country_code_HK', 'origin_country_code_MO',\n",
      "       'origin_country_code_MY', 'origin_country_code_TH',\n",
      "       'guest_national_Hong Kong', 'guest_national_Macau',\n",
      "       'guest_national_Malaysia', 'guest_national_Thailand',\n",
      "       'type_hotel_Serviced Apartment'],\n",
      "      dtype='object')\n",
      "   Unnamed: 0     booking_datetime         checkin_date  hotel_star_rating  \\\n",
      "0           0  2018-06-28 21:15:00  2018-07-09 00:00:00                4.0   \n",
      "1           1  2018-08-10 22:31:00  2018-08-16 00:00:00                4.0   \n",
      "2           2  2018-09-14 07:55:00  2018-09-14 00:00:00                4.0   \n",
      "3           3  2018-06-25 07:33:00  2018-07-02 00:00:00                3.0   \n",
      "4           4  2018-07-23 10:06:00  2018-08-09 00:00:00                3.0   \n",
      "5           5  2018-05-03 09:25:00  2018-08-21 00:00:00                3.0   \n",
      "6           6  2018-08-15 02:10:00  2018-08-18 00:00:00                3.5   \n",
      "7           7  2018-07-11 20:41:00  2018-08-03 00:00:00                3.5   \n",
      "8           8  2018-04-06 21:19:00  2018-07-22 00:00:00                4.0   \n",
      "9           9  2018-07-28 05:39:00  2018-07-28 00:00:00                3.0   \n",
      "\n",
      "   charge_option  guest_is_not_the_customer  no_of_adults  no_of_children  \\\n",
      "0              1                          0             2               0   \n",
      "1              0                          0             2               0   \n",
      "2              1                          0             2               0   \n",
      "3              0                          0             2               0   \n",
      "4              0                          0             8               0   \n",
      "5              0                          1             2               2   \n",
      "6              1                          0             2               0   \n",
      "7              0                          0             3               0   \n",
      "8              1                          0             5               0   \n",
      "9              1                          0             2               0   \n",
      "\n",
      "   request_extra_bed  no_of_room  ...  stay_len  origin_country_code_HK  \\\n",
      "0                  0           1  ...         4                       0   \n",
      "1                  0           1  ...         1                       0   \n",
      "2                  0           1  ...         1                       0   \n",
      "3                  0           1  ...         1                       0   \n",
      "4                  0           2  ...         1                       0   \n",
      "5                  0           1  ...         2                       0   \n",
      "6                  0           1  ...         1                       0   \n",
      "7                  0           1  ...         3                       0   \n",
      "8                  0           1  ...         1                       0   \n",
      "9                  0           1  ...         1                       0   \n",
      "\n",
      "   origin_country_code_MO  origin_country_code_MY  origin_country_code_TH  \\\n",
      "0                       0                       0                       0   \n",
      "1                       0                       0                       0   \n",
      "2                       0                       0                       0   \n",
      "3                       0                       0                       0   \n",
      "4                       0                       0                       1   \n",
      "5                       0                       0                       0   \n",
      "6                       0                       0                       1   \n",
      "7                       0                       0                       0   \n",
      "8                       0                       0                       0   \n",
      "9                       0                       0                       1   \n",
      "\n",
      "  guest_national_Hong Kong  guest_national_Macau  guest_national_Malaysia  \\\n",
      "0                        0                     0                        0   \n",
      "1                        0                     0                        0   \n",
      "2                        0                     0                        0   \n",
      "3                        0                     0                        0   \n",
      "4                        0                     0                        0   \n",
      "5                        0                     0                        0   \n",
      "6                        0                     0                        0   \n",
      "7                        0                     0                        0   \n",
      "8                        0                     0                        0   \n",
      "9                        0                     0                        0   \n",
      "\n",
      "   guest_national_Thailand  type_hotel_Serviced Apartment  \n",
      "0                        0                              0  \n",
      "1                        0                              0  \n",
      "2                        0                              0  \n",
      "3                        0                              0  \n",
      "4                        1                              0  \n",
      "5                        0                              0  \n",
      "6                        1                              1  \n",
      "7                        0                              0  \n",
      "8                        0                              0  \n",
      "9                        0                              0  \n",
      "\n",
      "[10 rows x 32 columns]\n",
      "booking_datetime 0\n",
      "checkin_date 0\n",
      "hotel_star_rating 0\n",
      "charge_option 0\n",
      "guest_is_not_the_customer 0\n",
      "no_of_adults 0\n",
      "no_of_children 0\n",
      "request_extra_bed 0\n",
      "no_of_room 0\n",
      "original_selling_amount 0\n",
      "original_payment_type 0\n",
      "is_user_logged_in 0\n",
      "is_first_booking 0\n",
      "number_of_requests 0\n",
      "cancellation_datetime 0\n",
      "hotel_brand_code 43308\n",
      "hotel_chain_code 42855\n",
      "hotel_city_code 0\n",
      "is_cancelled 0\n",
      "cancel_policy_365D100P_100P 0\n",
      "Lead_day 0\n",
      "stay_len 0\n",
      "origin_country_code_HK 0\n",
      "origin_country_code_MO 0\n",
      "origin_country_code_MY 0\n",
      "origin_country_code_TH 0\n",
      "guest_national_Hong Kong 0\n",
      "guest_national_Macau 0\n",
      "guest_national_Malaysia 0\n",
      "guest_national_Thailand 0\n",
      "type_hotel_Serviced Apartment 0\n",
      "<class 'pandas.core.frame.DataFrame'>\n",
      "Int64Index: 58588 entries, 0 to 58587\n",
      "Data columns (total 28 columns):\n",
      " #   Column                         Non-Null Count  Dtype  \n",
      "---  ------                         --------------  -----  \n",
      " 0   booking_datetime               58588 non-null  object \n",
      " 1   checkin_date                   58588 non-null  object \n",
      " 2   hotel_star_rating              58588 non-null  float64\n",
      " 3   charge_option                  58588 non-null  int64  \n",
      " 4   guest_is_not_the_customer      58588 non-null  int64  \n",
      " 5   no_of_adults                   58588 non-null  int64  \n",
      " 6   no_of_children                 58588 non-null  int64  \n",
      " 7   request_extra_bed              58588 non-null  int64  \n",
      " 8   no_of_room                     58588 non-null  int64  \n",
      " 9   original_selling_amount        58588 non-null  float64\n",
      " 10  original_payment_type          58588 non-null  int64  \n",
      " 11  is_user_logged_in              58588 non-null  bool   \n",
      " 12  is_first_booking               58588 non-null  bool   \n",
      " 13  number_of_requests             58588 non-null  int64  \n",
      " 14  cancellation_datetime          58588 non-null  object \n",
      " 15  is_cancelled                   58588 non-null  int64  \n",
      " 16  cancel_policy_365D100P_100P    58588 non-null  int64  \n",
      " 17  Lead_day                       58588 non-null  int64  \n",
      " 18  stay_len                       58588 non-null  int64  \n",
      " 19  origin_country_code_HK         58588 non-null  int64  \n",
      " 20  origin_country_code_MO         58588 non-null  int64  \n",
      " 21  origin_country_code_MY         58588 non-null  int64  \n",
      " 22  origin_country_code_TH         58588 non-null  int64  \n",
      " 23  guest_national_Hong Kong       58588 non-null  int64  \n",
      " 24  guest_national_Macau           58588 non-null  int64  \n",
      " 25  guest_national_Malaysia        58588 non-null  int64  \n",
      " 26  guest_national_Thailand        58588 non-null  int64  \n",
      " 27  type_hotel_Serviced Apartment  58588 non-null  int64  \n",
      "dtypes: bool(2), float64(2), int64(21), object(3)\n",
      "memory usage: 12.2+ MB\n",
      "None\n",
      "Index(['booking_datetime', 'checkin_date', 'hotel_star_rating',\n",
      "       'charge_option', 'guest_is_not_the_customer', 'no_of_adults',\n",
      "       'no_of_children', 'request_extra_bed', 'no_of_room',\n",
      "       'original_selling_amount', 'original_payment_type', 'is_user_logged_in',\n",
      "       'is_first_booking', 'number_of_requests', 'cancellation_datetime',\n",
      "       'is_cancelled', 'cancel_policy_365D100P_100P', 'Lead_day', 'stay_len',\n",
      "       'origin_country_code_HK', 'origin_country_code_MO',\n",
      "       'origin_country_code_MY', 'origin_country_code_TH',\n",
      "       'guest_national_Hong Kong', 'guest_national_Macau',\n",
      "       'guest_national_Malaysia', 'guest_national_Thailand',\n",
      "       'type_hotel_Serviced Apartment'],\n",
      "      dtype='object')\n"
     ]
    }
   ],
   "source": [
    "data = pd.read_csv(\"C:\\\\Users\\omerl\\OneDrive\\Documents\\GitHub\\Data_challenge_IML\\data_frame_final_1.csv\")\n",
    "print(data.columns)\n",
    "print(data.head(10))\n",
    "data.drop(['Unnamed: 0'], axis=1, inplace=True)\n",
    "# print the count of missing values in each column\n",
    "for col in data.columns:\n",
    "    print(col, data[col].isnull().sum())\n",
    "data.drop(['hotel_brand_code','hotel_chain_code', 'hotel_city_code'], axis=1, inplace=True)\n",
    "# drop all the rows with missing values\n",
    "data.dropna(inplace=True)\n",
    "print(data.info())\n",
    "print(data.columns)\n"
   ],
   "metadata": {
    "collapsed": false,
    "pycharm": {
     "name": "#%%\n"
    }
   }
  },
  {
   "cell_type": "code",
   "execution_count": 171,
   "outputs": [],
   "source": [
    "# cleaning the data remove missing values and duplicates\n",
    "data['cancellation_datetime'] = data['cancellation_datetime'].fillna('2022-02-01')\n",
    "data['cancellation_datetime'] = pd.to_datetime(data['cancellation_datetime'])\n",
    "filtered_df = data.loc[(data['cancellation_datetime'] <= '2018-09-29') | (data['cancellation_datetime'] == '2022-02-01')]\n",
    "filtered_df['booking_datetime'] = filtered_df['booking_datetime'].apply(pd.to_datetime)\n",
    "filtered_df['is_cancelled'] = (filtered_df['cancellation_datetime'] - filtered_df['booking_datetime']).dt.days\n",
    "filtered_df['is_cancelled'] = filtered_df['is_cancelled'].apply(lambda x: 1 if x<=44 and x >=35 else 0)\n",
    "filtered_df.drop(['cancellation_datetime', 'booking_datetime', 'checkin_date'], axis=1, inplace=True)\n",
    "data = filtered_df"
   ],
   "metadata": {
    "collapsed": false,
    "pycharm": {
     "name": "#%%\n"
    }
   }
  },
  {
   "cell_type": "code",
   "source": [
    "y = data['is_cancelled']\n",
    "X = data.drop(['is_cancelled'], axis=1)\n",
    "X_train, X_test, y_train, y_test = train_test_split(X, y, train_size=0.75, test_size=0.25, random_state=0)\n",
    "print(X_train.shape, X_test.shape, y_train.shape, y_test.shape)"
   ],
   "metadata": {
    "collapsed": false,
    "pycharm": {
     "name": "#%%\n"
    }
   },
   "execution_count": 172,
   "outputs": [
    {
     "name": "stdout",
     "output_type": "stream",
     "text": [
      "(43941, 24) (14647, 24) (43941,) (14647,)\n"
     ]
    }
   ]
  },
  {
   "cell_type": "code",
   "execution_count": 173,
   "outputs": [],
   "source": [
    "# SVM classifier"
   ],
   "metadata": {
    "collapsed": false,
    "pycharm": {
     "name": "#%%\n"
    }
   }
  },
  {
   "cell_type": "code",
   "execution_count": 174,
   "outputs": [],
   "source": [
    "# from sklearn.svm import SVC\n",
    "# model_SVC = SVC(kernel = 'rbf', random_state = 4)\n",
    "# model_SVC.fit(X_train, y_train)\n",
    "#\n",
    "# y_pred_svm = model_SVC.predict_proba(X_test)"
   ],
   "metadata": {
    "collapsed": false,
    "pycharm": {
     "name": "#%%\n"
    }
   }
  },
  {
   "cell_type": "code",
   "execution_count": 175,
   "outputs": [],
   "source": [
    "# Logistic Classifier"
   ],
   "metadata": {
    "collapsed": false,
    "pycharm": {
     "name": "#%%\n"
    }
   }
  },
  {
   "cell_type": "code",
   "execution_count": 176,
   "outputs": [],
   "source": [
    "# from sklearn.linear_model import LogisticRegression\n",
    "# model_logistic = LogisticRegression()\n",
    "# model_logistic.fit(X_train, y_train)\n",
    "#\n",
    "# y_pred_logistic = model_logistic.predict_proba(X_test)"
   ],
   "metadata": {
    "collapsed": false,
    "pycharm": {
     "name": "#%%\n"
    }
   }
  },
  {
   "cell_type": "code",
   "execution_count": 177,
   "outputs": [],
   "source": [
    "#k nearest neighbors"
   ],
   "metadata": {
    "collapsed": false,
    "pycharm": {
     "name": "#%%\n"
    }
   }
  },
  {
   "cell_type": "code",
   "execution_count": 178,
   "outputs": [],
   "source": [
    "from sklearn.neighbors import KNeighborsClassifier\n",
    "neigh = KNeighborsClassifier(n_neighbors=10)\n",
    "neigh.fit(X_train, y_train)\n",
    "y_pred_neigh = neigh.predict_proba(X_test)"
   ],
   "metadata": {
    "collapsed": false,
    "pycharm": {
     "name": "#%%\n"
    }
   }
  },
  {
   "cell_type": "code",
   "execution_count": 179,
   "outputs": [
    {
     "name": "stdout",
     "output_type": "stream",
     "text": [
      "Training Accuracy is:  0.9999317266334403\n",
      "Testing Accuracy is:  0.9926947497781116\n",
      "Classification accuracy on test set with max features = 1 and max_depth = 10: 0.992\n",
      "Classification accuracy on test set with max features = 1 and max_depth = 20: 0.993\n",
      "Classification accuracy on test set with max features = 1 and max_depth = 30: 0.993\n",
      "Classification accuracy on test set with max features = 1 and max_depth = 40: 0.992\n",
      "Classification accuracy on test set with max features = 1 and max_depth = 50: 0.992\n",
      "Classification accuracy on test set with max features = sqrt and max_depth = 10: 0.992\n",
      "Classification accuracy on test set with max features = sqrt and max_depth = 20: 0.993\n",
      "Classification accuracy on test set with max features = sqrt and max_depth = 30: 0.993\n",
      "Classification accuracy on test set with max features = sqrt and max_depth = 40: 0.993\n",
      "Classification accuracy on test set with max features = sqrt and max_depth = 50: 0.993\n",
      "Classification accuracy on test set with max features = log2 and max_depth = 10: 0.992\n",
      "Classification accuracy on test set with max features = log2 and max_depth = 20: 0.993\n",
      "Classification accuracy on test set with max features = log2 and max_depth = 30: 0.993\n",
      "Classification accuracy on test set with max features = log2 and max_depth = 40: 0.993\n",
      "Classification accuracy on test set with max features = log2 and max_depth = 50: 0.993\n"
     ]
    }
   ],
   "source": [
    "# boosting random forest\n",
    "from sklearn.ensemble import RandomForestClassifier\n",
    "forest = RandomForestClassifier(n_estimators=100,criterion='entropy')\n",
    "forest.fit(X_train, y_train)\n",
    "y_pred_forest = forest.predict_proba(X_test)\n",
    "\n",
    "# Accuracy on Test\n",
    "print(\"Training Accuracy is: \", forest.score(X_train, y_train))\n",
    "# Accuracy on Train\n",
    "print(\"Testing Accuracy is: \", forest.score(X_test, y_test))\n",
    "\n",
    "\n",
    "from itertools import product\n",
    "n_estimators = 100\n",
    "max_features = [1, 'sqrt', 'log2']\n",
    "max_depths = [10, 20, 30, 40, 50]\n",
    "for f, d in product(max_features, max_depths): # with product we can iterate through all possible combinations\n",
    "    rf = RandomForestClassifier(n_estimators=n_estimators,\n",
    "                                criterion='entropy',\n",
    "                                max_features=f,\n",
    "                                max_depth=d,\n",
    "                                n_jobs=2,\n",
    "                                random_state=1337)\n",
    "    rf.fit(X_train, y_train)\n",
    "    prediction_test = rf.predict(X=X_test)\n",
    "    print('Classification accuracy on test set with max features = {} and max_depth = {}: {:.3f}'.format(f, d, accuracy_score(y_test,prediction_test)))"
   ],
   "metadata": {
    "collapsed": false,
    "pycharm": {
     "name": "#%%\n"
    }
   }
  },
  {
   "cell_type": "code",
   "execution_count": 180,
   "outputs": [],
   "source": [
    "#k random forest"
   ],
   "metadata": {
    "collapsed": false,
    "pycharm": {
     "name": "#%%\n"
    }
   }
  },
  {
   "cell_type": "code",
   "execution_count": 181,
   "outputs": [],
   "source": [
    "from sklearn.ensemble import RandomForestClassifier\n",
    "forest = RandomForestClassifier(n_estimators=100,criterion='entropy')\n",
    "forest.fit(X_train, y_train)\n",
    "y_pred_forest = forest.predict_proba(X_test)"
   ],
   "metadata": {
    "collapsed": false,
    "pycharm": {
     "name": "#%%\n"
    }
   }
  },
  {
   "cell_type": "code",
   "execution_count": 182,
   "outputs": [],
   "source": [
    "#Plot ROC and compare AUC"
   ],
   "metadata": {
    "collapsed": false,
    "pycharm": {
     "name": "#%%\n"
    }
   }
  },
  {
   "cell_type": "code",
   "execution_count": 183,
   "outputs": [
    {
     "data": {
      "text/plain": "<Figure size 500x500 with 1 Axes>",
      "image/png": "[encoded data removed]"
     },
     "metadata": {
      "needs_background": "light"
     },
     "output_type": "display_data"
    }
   ],
   "source": [
    "from sklearn.metrics import roc_curve, auc, roc_auc_score\n",
    "# y_pred_logistic = y_pred_logistic[:,1]\n",
    "y_pred_neigh = y_pred_neigh[:,1]\n",
    "y_pred_forest= y_pred_forest[:,1]\n",
    "\n",
    "# logistic_fpr, logistic_tpr, threshold_test = roc_curve(y_test, y_pred_logistic)\n",
    "# auc_logistic = roc_auc_score(y_test, y_pred_logistic)\n",
    "\n",
    "neigh_fpr, neigh_tpr, neigh_threshold = roc_curve(y_test, y_pred_neigh)\n",
    "auc_neigh = roc_auc_score(y_test, y_pred_neigh)\n",
    "\n",
    "forest_fpr, forest_tpr, forest_threshold = roc_curve(y_test, y_pred_forest)\n",
    "auc_forest = roc_auc_score(y_test, y_pred_forest)\n",
    "\n",
    "plt.figure(figsize=(5, 5), dpi=100)\n",
    "# plt.plot(svm_fpr, svm_tpr, linestyle='-', label='SVM (auc = %0.3f)' % auc_svm)\n",
    "#plt.plot(logistic_fpr, logistic_tpr, marker='.', label='Logistic (auc = %0.3f)' % auc_logistic)\n",
    "plt.plot(neigh_fpr, neigh_tpr, marker='.', label='neigh (auc = %0.3f)' % auc_neigh)\n",
    "plt.plot(forest_fpr, forest_tpr, marker='.', label='forest (auc = %0.3f)' % auc_forest)\n",
    "\n",
    "plt.xlabel('False Positive Rate -->')\n",
    "plt.ylabel('True Positive Rate -->')\n",
    "\n",
    "plt.legend()\n",
    "\n",
    "plt.show()"
   ],
   "metadata": {
    "collapsed": false,
    "pycharm": {
     "name": "#%%\n"
    }
   }
  },
  {
   "cell_type": "code",
   "execution_count": 184,
   "outputs": [
    {
     "name": "stdout",
     "output_type": "stream",
     "text": [
      "is_cancelled                     1.000000\n",
      "Lead_day                         0.092461\n",
      "guest_national_Macau             0.054256\n",
      "origin_country_code_MO           0.051798\n",
      "stay_len                         0.034866\n",
      "is_user_logged_in                0.025445\n",
      "origin_country_code_HK           0.022100\n",
      "original_selling_amount          0.020741\n",
      "guest_national_Hong Kong         0.019758\n",
      "no_of_children                   0.006981\n",
      "request_extra_bed                0.003563\n",
      "no_of_adults                     0.001315\n",
      "no_of_room                      -0.001966\n",
      "is_first_booking                -0.004283\n",
      "hotel_star_rating               -0.008578\n",
      "original_payment_type           -0.010545\n",
      "guest_is_not_the_customer       -0.010688\n",
      "type_hotel_Serviced Apartment   -0.012064\n",
      "guest_national_Thailand         -0.012790\n",
      "guest_national_Malaysia         -0.017311\n",
      "origin_country_code_TH          -0.017482\n",
      "origin_country_code_MY          -0.019134\n",
      "number_of_requests              -0.020589\n",
      "cancel_policy_365D100P_100P     -0.048072\n",
      "charge_option                   -0.068188\n",
      "Name: is_cancelled, dtype: float64\n"
     ]
    }
   ],
   "source": [
    "# print the correlation between the \"is_cancelled\" column and the other columns\n",
    "print(data.corr()['is_cancelled'].sort_values(ascending=False)[:50])"
   ],
   "metadata": {
    "collapsed": false,
    "pycharm": {
     "name": "#%%\n"
    }
   }
  }
 ],
 "metadata": {
  "kernelspec": {
   "display_name": "Python 3",
   "language": "python",
   "name": "python3"
  },
  "language_info": {
   "codemirror_mode": {
    "name": "ipython",
    "version": 2
   },
   "file_extension": ".py",
   "mimetype": "text/x-python",
   "name": "python",
   "nbconvert_exporter": "python",
   "pygments_lexer": "ipython2",
   "version": "2.7.6"
  }
 },
 "nbformat": 4,
 "nbformat_minor": 0
}