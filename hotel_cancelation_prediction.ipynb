{
 "cells": [
  {
   "cell_type": "code",
   "execution_count": 1,
   "metadata": {
    "collapsed": true
   },
   "outputs": [
    {
     "ename": "ModuleNotFoundError",
     "evalue": "No module named 'pandas'",
     "output_type": "error",
     "traceback": [
      "\u001B[1;31m---------------------------------------------------------------------------\u001B[0m",
      "\u001B[1;31mModuleNotFoundError\u001B[0m                       Traceback (most recent call last)",
      "\u001B[1;32m<ipython-input-1-29cea224a517>\u001B[0m in \u001B[0;36m<module>\u001B[1;34m\u001B[0m\n\u001B[0;32m      1\u001B[0m \u001B[1;32mimport\u001B[0m \u001B[0mnumpy\u001B[0m \u001B[1;32mas\u001B[0m \u001B[0mnp\u001B[0m\u001B[1;33m\u001B[0m\u001B[1;33m\u001B[0m\u001B[0m\n\u001B[1;32m----> 2\u001B[1;33m \u001B[1;32mimport\u001B[0m \u001B[0mpandas\u001B[0m \u001B[1;32mas\u001B[0m \u001B[0mpd\u001B[0m\u001B[1;33m\u001B[0m\u001B[1;33m\u001B[0m\u001B[0m\n\u001B[0m\u001B[0;32m      3\u001B[0m \u001B[1;32mimport\u001B[0m \u001B[0mplotly\u001B[0m\u001B[1;33m.\u001B[0m\u001B[0mio\u001B[0m \u001B[1;32mas\u001B[0m \u001B[0mpio\u001B[0m\u001B[1;33m\u001B[0m\u001B[1;33m\u001B[0m\u001B[0m\n\u001B[0;32m      4\u001B[0m \u001B[0mpio\u001B[0m\u001B[1;33m.\u001B[0m\u001B[0mtemplates\u001B[0m\u001B[1;33m.\u001B[0m\u001B[0mdefault\u001B[0m \u001B[1;33m=\u001B[0m \u001B[1;34m\"simple_white\"\u001B[0m\u001B[1;33m\u001B[0m\u001B[1;33m\u001B[0m\u001B[0m\n",
      "\u001B[1;31mModuleNotFoundError\u001B[0m: No module named 'pandas'"
     ]
    }
   ],
   "source": [
    "import numpy as np\n",
    "import pandas as pd\n",
    "import plotly.io as pio\n",
    "pio.templates.default = \"simple_white\""
   ]
  },
  {
   "cell_type": "code",
   "execution_count": null,
   "outputs": [],
   "source": [
    "# load the data\n",
    "data = pd.read_csv(\"C:\\\\Users\\omerl\\OneDrive\\Desktop\\iml_repo\\IML.HUJI\\datasets\\\\agoda_cancellation_train.csv\",engine='python')\n",
    "data_frame = pd.DataFrame(data)"
   ],
   "metadata": {
    "collapsed": false,
    "pycharm": {
     "name": "#%%\n"
    }
   }
  },
  {
   "cell_type": "code",
   "execution_count": null,
   "outputs": [],
   "source": [
    "# get dummies for the categorical charge options\n",
    "data_frame['charge_option'] = data_frame['charge_option'].apply(lambda x: 1 if x == 'Pay Now' else 0)"
   ],
   "metadata": {
    "collapsed": false,
    "pycharm": {
     "name": "#%%\n"
    }
   }
  },
  {
   "cell_type": "code",
   "execution_count": null,
   "outputs": [],
   "source": [
    "# fill missing values at cancellation_datetime column with zero values\n",
    "# data_frame['cancellation_datetime'] = data_frame['cancellation_datetime'].fillna(0)\n",
    "# data_frame['cancellation_datetime'] = (\n",
    "#     pd.to_numeric(data_frame['cancellation_datetime'],errors='coerce').fillna(1))\n",
    "# data_frame=data_frame.rename(columns = {'cancellation_datetime':'is_cancelled'})\n"
   ],
   "metadata": {
    "collapsed": false,
    "pycharm": {
     "name": "#%%\n"
    }
   }
  },
  {
   "cell_type": "code",
   "execution_count": null,
   "outputs": [],
   "source": [
    "# cleaning the data remove missing values and duplicates\n",
    "data_frame['cancellation_datetime'] = data_frame['cancellation_datetime'].fillna('2022-02-01')\n",
    "data_frame['cancellation_datetime'] = pd.to_datetime(data_frame['cancellation_datetime'])\n",
    "filtered_df = data_frame.loc[(data_frame['cancellation_datetime'] <= '2018-09-29') | (data_frame['cancellation_datetime'] == '2022-02-01')]\n",
    "filtered_df['booking_datetime'] = filtered_df['booking_datetime'].apply(pd.to_datetime)\n",
    "filtered_df['is_cancelled'] = (filtered_df['cancellation_datetime'] - filtered_df['booking_datetime']).dt.days\n",
    "filtered_df['is_cancelled'] = filtered_df['is_cancelled'].apply(lambda x: 1 if x<=44 and x >=35 else 0)\n",
    "data_frame = filtered_df"
   ],
   "metadata": {
    "collapsed": false,
    "pycharm": {
     "name": "#%%\n"
    }
   }
  },
  {
   "cell_type": "code",
   "execution_count": null,
   "outputs": [],
   "source": [
    "# drop columns that are not relevant to the prediction\n",
    "data_frame = data_frame.drop(['h_customer_id', 'h_booking_id', 'hotel_area_code'], axis=1)\n",
    "data_frame = data_frame.drop(['original_payment_method', 'language','original_payment_currency'], axis=1)"
   ],
   "metadata": {
    "collapsed": false,
    "pycharm": {
     "name": "#%%\n"
    }
   }
  },
  {
   "cell_type": "code",
   "execution_count": null,
   "outputs": [],
   "source": [
    "# fill missing values with 0 at the following columns\n",
    "data_frame['request_nonesmoke'] = data_frame['request_nonesmoke'].fillna(0)\n",
    "data_frame['request_earlycheckin'] = data_frame['request_earlycheckin'].fillna(0)\n",
    "data_frame['request_latecheckin'] = data_frame['request_latecheckin'].fillna(0)\n",
    "data_frame['request_twinbeds'] = data_frame['request_twinbeds'].fillna(0)\n",
    "data_frame['request_largebed'] = data_frame['request_largebed'].fillna(0)\n",
    "data_frame['request_airport'] = data_frame['request_airport'].fillna(0)\n",
    "data_frame['request_highfloor'] = data_frame['request_highfloor'].fillna(0)\n",
    "data_frame['no_of_extra_bed'] = data_frame['no_of_extra_bed'].apply(lambda x: 1 if x>=1 else 0)\n",
    "data_frame = data_frame.rename(columns = {'no_of_extra_bed':'request_extra_bed'})\n",
    "### merge all request_* columns into one column\n",
    "data_frame['request_twinbeds'] = data_frame['request_largebed'] + data_frame['request_twinbeds'] + data_frame['request_airport'] + data_frame['request_highfloor'] + data_frame['request_earlycheckin'] + data_frame['request_latecheckin'] + data_frame['request_nonesmoke']\n",
    "# rename the request_twinbeds column to number_of_requests\n",
    "data_frame = data_frame.rename(columns = {'request_twinbeds':'number_of_requests'})\n",
    "data_frame['number_of_requests'] = data_frame['number_of_requests'].apply(lambda x: 0 if x < 1 else 1)\n",
    "data_frame.drop(['request_largebed', 'request_airport', 'request_highfloor', 'request_earlycheckin', 'request_latecheckin', 'request_nonesmoke'], axis=1, inplace=True)\n",
    "# print the correlation between the features and the is_cancelled column"
   ],
   "metadata": {
    "collapsed": false,
    "pycharm": {
     "name": "#%%\n"
    }
   }
  },
  {
   "cell_type": "code",
   "execution_count": null,
   "outputs": [],
   "source": [],
   "metadata": {
    "collapsed": false,
    "pycharm": {
     "name": "#%%\n"
    }
   }
  },
  {
   "cell_type": "code",
   "execution_count": null,
   "outputs": [],
   "source": [
    "delete_columns = []\n",
    "dummy_2 = pd.get_dummies(data_frame['cancellation_policy_code'],prefix=\"cancel_policy\")\n",
    "dummy_2['is_cancelled'] = data_frame['is_cancelled']\n",
    "print(dummy_2.corr()['is_cancelled'].sort_values(ascending=False)[:80])\n",
    "print(dummy_2.corr()['is_cancelled'].sort_values(ascending=True)[:20])\n",
    "for col in dummy_2:\n",
    "    if(dummy_2[col].sum() < 200):\n",
    "        dummy_2.drop(col, inplace=True, axis=1)\n",
    "for col in dummy_2:\n",
    "    if(col == 'is_cancelled'):\n",
    "        continue\n",
    "    if(np.abs(dummy_2['is_cancelled'].corr(dummy_2[col])) < 0.005):\n",
    "        dummy_2.drop(col, inplace=True, axis=1)\n",
    "        delete_columns.append(col)\n",
    "print(delete_columns)\n",
    "#data_frame = pd.concat([data_frame, dummy], axis=1)\n",
    "# print the correlation between the features and the is_cancelled column\n",
    "dummy_2.drop('is_cancelled', inplace=True, axis=1)\n",
    "# concat the dummies to the data_frame\n",
    "data_frame = pd.concat([data_frame, dummy_2], axis=1)"
   ],
   "metadata": {
    "collapsed": false,
    "pycharm": {
     "name": "#%%# print # check for missing values\n"
    }
   }
  },
  {
   "cell_type": "code",
   "execution_count": null,
   "outputs": [],
   "source": [
    "\n",
    "# # fill missing values of the hotel_chain_code column with \"Unknown\"\n",
    "# data_frame['hotel_chain_code'] = data_frame['hotel_chain_code'].fillna(\"Unknown\")\n",
    "# # fill missing values of the hotel_brand_code column with \"Unknown\"\n",
    "# data_frame['hotel_brand_code'] = data_frame['hotel_brand_code'].fillna(\"Unknown\")\n",
    "# dummy = pd.get_dummies(data_frame['hotel_chain_code'], prefix='hbc_')\n",
    "# for col in dummy:\n",
    "#     if(dummy[col].sum() < 200):\n",
    "#         dummy.drop(col, inplace=True, axis=1)\n",
    "# # conect the dummies to the data frame\n",
    "# data_frame = pd.concat([data_frame, dummy], axis=1)\n",
    "# # print the correlation between the features and the is_cancelled column\n",
    "# data_frame.corr()['is_cancelled'].sort_values(ascending=False)"
   ],
   "metadata": {
    "collapsed": false,
    "pycharm": {
     "name": "#%%\n"
    }
   }
  },
  {
   "cell_type": "code",
   "execution_count": null,
   "outputs": [],
   "source": [
    "# explore the data in the Booking_datetime column\n",
    "# and the checkin_date and checkout_date columns\n",
    "# calculate the difference in days between the Booking_datetime and the checkin_date\n",
    "# and the difference in days between the Booking_datetime and the checkout_date\n",
    "\n",
    "data_frame['checkin_date'] = data_frame['checkin_date'].apply(pd.to_datetime)\n",
    "data_frame['checkout_date'] = data_frame['checkout_date'].apply(pd.to_datetime)\n",
    "data_frame['booking_datetime'] = data_frame['booking_datetime'].apply(pd.to_datetime)\n",
    "# insert new column with the difference in days between the Booking_datetime and the checkin_date\n",
    "data_frame['Lead_day'] = (data_frame['checkin_date'] - data_frame['booking_datetime']).dt.days\n",
    "data_frame['stay_len'] = (data_frame['checkout_date'] - data_frame['checkin_date']).dt.days\n",
    "# replace all the negative values with 0\n",
    "data_frame['Lead_day'] = data_frame['Lead_day'].apply(lambda x: 0 if x < 0 else x)\n",
    "data_frame['stay_len'] = data_frame['stay_len'].apply(lambda x: 0 if x < 0 else x)"
   ],
   "metadata": {
    "collapsed": false,
    "pycharm": {
     "name": "#%%\n"
    }
   }
  },
  {
   "cell_type": "code",
   "execution_count": null,
   "outputs": [],
   "source": [
    "data_frame['original_payment_type'] = data_frame['original_payment_type'].apply(lambda x: 0 if x == 'Credit Card' else 1)"
   ],
   "metadata": {
    "collapsed": false,
    "pycharm": {
     "name": "#%%\n"
    }
   }
  },
  {
   "cell_type": "code",
   "execution_count": null,
   "outputs": [],
   "source": [],
   "metadata": {
    "collapsed": false,
    "pycharm": {
     "name": "#%%\n"
    }
   }
  },
  {
   "cell_type": "code",
   "execution_count": null,
   "outputs": [],
   "source": [
    "dummy = pd.get_dummies(data_frame['origin_country_code'], prefix=\"origin_country_code\")\n",
    "dummy.insert(0, 'is_cancelled',data_frame['is_cancelled'])\n",
    "dummy.fillna(\"none\")\n",
    "print(dummy.corr()['is_cancelled'].sort_values(ascending=False)[:80])\n",
    "print(dummy.corr()['is_cancelled'].sort_values(ascending=True)[:20])\n",
    "counter = 0\n",
    "for col in dummy:\n",
    "    if(dummy[col].sum() < 200):\n",
    "        dummy.drop(col, inplace=True, axis=1)\n",
    "        delete_columns.append(col)\n",
    "for col in dummy:\n",
    "    if(col == 'is_cancelled'):\n",
    "        continue\n",
    "    if(np.abs(dummy['is_cancelled'].corr(dummy[col])) < 0.005):\n",
    "        dummy.drop(col, inplace=True, axis=1)\n",
    "        delete_columns.append(col)\n",
    "print(delete_columns)\n",
    "dummy.drop('is_cancelled', inplace=True, axis=1)\n",
    "data_frame = pd.concat([data_frame, dummy], axis=1)"
   ],
   "metadata": {
    "collapsed": false,
    "pycharm": {
     "name": "#%%\n"
    }
   }
  },
  {
   "cell_type": "code",
   "execution_count": null,
   "outputs": [],
   "source": [
    "dummy_2 = pd.get_dummies(data_frame['guest_nationality_country_name'], prefix=\"guest_national\")\n",
    "dummy_2['is_cancelled'] = data_frame['is_cancelled']\n",
    "print(dummy_2.corr()['is_cancelled'].sort_values(ascending=False)[:80])\n",
    "print(dummy_2.corr()['is_cancelled'].sort_values(ascending=True)[:20])\n",
    "for col in dummy_2:\n",
    "    if(dummy_2[col].sum() < 100):\n",
    "        dummy_2.drop(col, inplace=True, axis=1)\n",
    "        delete_columns.append(col)\n",
    "for col in dummy_2:\n",
    "    if(col == 'is_cancelled'):\n",
    "        continue\n",
    "    if(np.abs(dummy_2['is_cancelled'].corr(dummy_2[col])) < 0.005):\n",
    "        dummy_2.drop(col, inplace=True, axis=1)\n",
    "        delete_columns.append(col)\n",
    "#data_frame = pd.concat([data_frame, dummy], axis=1)\n",
    "# print the correlation between the features and the is_cancelled column\n",
    "dummy_2.drop('is_cancelled', inplace=True, axis=1)"
   ],
   "metadata": {
    "collapsed": false,
    "pycharm": {
     "name": "#%%\n"
    }
   }
  },
  {
   "cell_type": "code",
   "execution_count": null,
   "outputs": [],
   "source": [
    "# concat the dummies to the data frame\n",
    "data_frame = pd.concat([data_frame, dummy_2], axis=1)\n",
    "# data_frame.drop(['guest_nationality_country_name', 'customer_natio'], axis=1, inlpace=True)"
   ],
   "metadata": {
    "collapsed": false,
    "pycharm": {
     "name": "#%%\n"
    }
   }
  },
  {
   "cell_type": "code",
   "execution_count": null,
   "outputs": [],
   "source": [
    "print(data_frame.columns)\n",
    "data_frame.drop(['cancellation_policy_code', 'checkout_date', 'origin_country_code','guest_nationality_country_name','hotel_id','hotel_live_date', 'hotel_country_code','hotel_live_date','customer_nationality', 'guest_nationality_country_name',\n",
    "                 'origin_country_code'], axis=1, inplace=True)"
   ],
   "metadata": {
    "collapsed": false,
    "pycharm": {
     "name": "#%%\n"
    }
   }
  },
  {
   "cell_type": "code",
   "execution_count": null,
   "outputs": [],
   "source": [
    "dummy_3 = pd.get_dummies(data_frame['accommadation_type_name'], prefix=\"type_hotel\")\n",
    "dummy_3['is_cancelled'] = data_frame['is_cancelled']\n",
    "print(dummy_3.columns)\n",
    "print(dummy_2.corr()['is_cancelled'].sort_values(ascending=False)[:80])\n",
    "print(dummy_2.corr()['is_cancelled'].sort_values(ascending=True)[:20])\n",
    "for col in dummy_3:\n",
    "    if(dummy_3[col].sum() < 100):\n",
    "        dummy_3.drop(col, inplace=True, axis=1)\n",
    "        delete_columns.append(col)\n",
    "for col in dummy_3:\n",
    "    if(col == 'is_cancelled'):\n",
    "        continue\n",
    "    if(np.abs(dummy_3['is_cancelled'].corr(dummy_3[col])) < 0.005):\n",
    "        dummy_3.drop(col, inplace=True, axis=1)\n",
    "        delete_columns.append(col)\n",
    "\n",
    "#data_frame = pd.concat([data_frame, dummy], axis=1)\n",
    "# print the correlation between the features and the is_cancelled column\n",
    "dummy_3.drop('is_cancelled', inplace=True, axis=1)\n"
   ],
   "metadata": {
    "collapsed": false,
    "pycharm": {
     "name": "#%%\n"
    }
   }
  },
  {
   "cell_type": "code",
   "execution_count": null,
   "outputs": [],
   "source": [
    "data_frame = pd.concat([data_frame, dummy_3], axis=1)\n",
    "# print the correlation between the features and the is_cancelled column\n",
    "print(data_frame.columns)\n",
    "print(data_frame.info())\n",
    "print(data_frame.isnull().sum())\n"
   ],
   "metadata": {
    "collapsed": false,
    "pycharm": {
     "name": "#%%\n"
    }
   }
  },
  {
   "cell_type": "code",
   "execution_count": null,
   "outputs": [],
   "source": [
    "data_frame.drop(['accommadation_type_name'], axis=1, inplace=True)"
   ],
   "metadata": {
    "collapsed": false,
    "pycharm": {
     "name": "#%%\n"
    }
   }
  },
  {
   "cell_type": "markdown",
   "source": [],
   "metadata": {
    "collapsed": false
   }
  },
  {
   "cell_type": "code",
   "execution_count": null,
   "outputs": [],
   "source": [
    "print(delete_columns)\n",
    "# write delete columns to a file\n",
    "with open('delete_columns.txt', 'w') as f:\n",
    "    f.write(str(delete_columns))"
   ],
   "metadata": {
    "collapsed": false,
    "pycharm": {
     "name": "#%%\n"
    }
   }
  },
  {
   "cell_type": "code",
   "execution_count": null,
   "outputs": [],
   "source": [
    "print(data_frame.columns)\n",
    "print(data_frame.info())\n",
    "print(data_frame.shape)"
   ],
   "metadata": {
    "collapsed": false,
    "pycharm": {
     "name": "#%%\n"
    }
   }
  },
  {
   "cell_type": "code",
   "execution_count": null,
   "outputs": [],
   "source": [],
   "metadata": {
    "collapsed": false,
    "pycharm": {
     "name": "#%%\n"
    }
   }
  }
 ],
 "metadata": {
  "kernelspec": {
   "display_name": "Python 3",
   "language": "python",
   "name": "python3"
  },
  "language_info": {
   "codemirror_mode": {
    "name": "ipython",
    "version": 2
   },
   "file_extension": ".py",
   "mimetype": "text/x-python",
   "name": "python",
   "nbconvert_exporter": "python",
   "pygments_lexer": "ipython2",
   "version": "2.7.6"
  }
 },
 "nbformat": 4,
 "nbformat_minor": 0
}