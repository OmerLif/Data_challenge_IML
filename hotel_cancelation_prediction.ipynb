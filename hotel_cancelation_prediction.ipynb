{
 "cells": [
  {
   "cell_type": "code",
   "execution_count": 45,
   "metadata": {
    "collapsed": true
   },
   "outputs": [],
   "source": [
    "import numpy as np\n",
    "import pandas as pd\n",
    "import plotly.io as pio\n",
    "pio.templates.default = \"simple_white\""
   ]
  },
  {
   "cell_type": "code",
   "execution_count": 46,
   "outputs": [],
   "source": [
    "# load the data\n",
    "data = pd.read_csv(\"C:\\\\Users\\omerl\\OneDrive\\Desktop\\iml_repo\\IML.HUJI\\datasets\\\\agoda_cancellation_train.csv\",engine='python')\n",
    "data_frame = pd.DataFrame(data)"
   ],
   "metadata": {
    "collapsed": false,
    "pycharm": {
     "name": "#%%\n"
    }
   }
  },
  {
   "cell_type": "code",
   "execution_count": 47,
   "outputs": [],
   "source": [
    "# get dummies for the categorical charge options\n",
    "data_frame['charge_option'] = data_frame['charge_option'].apply(lambda x: 1 if x == 'Pay Now' else 0)"
   ],
   "metadata": {
    "collapsed": false,
    "pycharm": {
     "name": "#%%\n"
    }
   }
  },
  {
   "cell_type": "code",
   "execution_count": 48,
   "outputs": [],
   "source": [
    "# fill missing values at cancellation_datetime column with zero values\n",
    "# data_frame['cancellation_datetime'] = data_frame['cancellation_datetime'].fillna(0)\n",
    "# data_frame['cancellation_datetime'] = (\n",
    "#     pd.to_numeric(data_frame['cancellation_datetime'],errors='coerce').fillna(1))\n",
    "# data_frame=data_frame.rename(columns = {'cancellation_datetime':'is_cancelled'})\n"
   ],
   "metadata": {
    "collapsed": false,
    "pycharm": {
     "name": "#%%\n"
    }
   }
  },
  {
   "cell_type": "code",
   "execution_count": 49,
   "outputs": [
    {
     "name": "stdout",
     "output_type": "stream",
     "text": [
      "(58588, 40)\n"
     ]
    },
    {
     "name": "stderr",
     "output_type": "stream",
     "text": [
      "<ipython-input-49-1ec9945cdcd0>:5: SettingWithCopyWarning: \n",
      "A value is trying to be set on a copy of a slice from a DataFrame.\n",
      "Try using .loc[row_indexer,col_indexer] = value instead\n",
      "\n",
      "See the caveats in the documentation: https://pandas.pydata.org/pandas-docs/stable/user_guide/indexing.html#returning-a-view-versus-a-copy\n",
      "  filtered_df['booking_datetime'] = filtered_df['booking_datetime'].apply(pd.to_datetime)\n",
      "<ipython-input-49-1ec9945cdcd0>:6: SettingWithCopyWarning: \n",
      "A value is trying to be set on a copy of a slice from a DataFrame.\n",
      "Try using .loc[row_indexer,col_indexer] = value instead\n",
      "\n",
      "See the caveats in the documentation: https://pandas.pydata.org/pandas-docs/stable/user_guide/indexing.html#returning-a-view-versus-a-copy\n",
      "  filtered_df['is_cancelled'] = (filtered_df['cancellation_datetime'] - filtered_df['booking_datetime']).dt.days\n",
      "<ipython-input-49-1ec9945cdcd0>:7: SettingWithCopyWarning: \n",
      "A value is trying to be set on a copy of a slice from a DataFrame.\n",
      "Try using .loc[row_indexer,col_indexer] = value instead\n",
      "\n",
      "See the caveats in the documentation: https://pandas.pydata.org/pandas-docs/stable/user_guide/indexing.html#returning-a-view-versus-a-copy\n",
      "  filtered_df['is_cancelled'] = filtered_df['is_cancelled'].apply(lambda x: 1 if x<=44 and x >=35 else 0)\n"
     ]
    }
   ],
   "source": [
    "# cleaning the data remove missing values and duplicates\n",
    "data_frame['cancellation_datetime'] = data_frame['cancellation_datetime'].fillna('2022-02-01')\n",
    "data_frame['cancellation_datetime'] = pd.to_datetime(data_frame['cancellation_datetime'])\n",
    "filtered_df = data_frame.loc[(data_frame['cancellation_datetime'] <= '2018-09-29') | (data_frame['cancellation_datetime'] == '2022-02-01')]\n",
    "filtered_df['booking_datetime'] = filtered_df['booking_datetime'].apply(pd.to_datetime)\n",
    "filtered_df['is_cancelled'] = (filtered_df['cancellation_datetime'] - filtered_df['booking_datetime']).dt.days\n",
    "filtered_df['is_cancelled'] = filtered_df['is_cancelled'].apply(lambda x: 1 if x<=44 and x >=35 else 0)\n",
    "print(filtered_df.shape)\n",
    "data_frame = filtered_df"
   ],
   "metadata": {
    "collapsed": false,
    "pycharm": {
     "name": "#%%\n"
    }
   }
  },
  {
   "cell_type": "code",
   "execution_count": 50,
   "outputs": [],
   "source": [
    "# drop columns that are not relevant to the prediction\n",
    "data_frame = data_frame.drop(['h_customer_id', 'h_booking_id', 'hotel_area_code'], axis=1)\n",
    "data_frame = data_frame.drop(['original_payment_method', 'language','original_payment_currency'], axis=1)"
   ],
   "metadata": {
    "collapsed": false,
    "pycharm": {
     "name": "#%%\n"
    }
   }
  },
  {
   "cell_type": "code",
   "execution_count": 51,
   "outputs": [],
   "source": [
    "# fill missing values with 0 at the following columns\n",
    "data_frame['request_nonesmoke'] = data_frame['request_nonesmoke'].fillna(0)\n",
    "data_frame['request_earlycheckin'] = data_frame['request_earlycheckin'].fillna(0)\n",
    "data_frame['request_latecheckin'] = data_frame['request_latecheckin'].fillna(0)\n",
    "data_frame['request_twinbeds'] = data_frame['request_twinbeds'].fillna(0)\n",
    "data_frame['request_largebed'] = data_frame['request_largebed'].fillna(0)\n",
    "data_frame['request_airport'] = data_frame['request_airport'].fillna(0)\n",
    "data_frame['request_highfloor'] = data_frame['request_highfloor'].fillna(0)\n",
    "data_frame['no_of_extra_bed'] = data_frame['no_of_extra_bed'].apply(lambda x: 1 if x>=1 else 0)\n",
    "data_frame = data_frame.rename(columns = {'no_of_extra_bed':'request_extra_bed'})\n",
    "### merge all request_* columns into one column\n",
    "data_frame['request_twinbeds'] = data_frame['request_largebed'] + data_frame['request_twinbeds'] + data_frame['request_airport'] + data_frame['request_highfloor'] + data_frame['request_earlycheckin'] + data_frame['request_latecheckin'] + data_frame['request_nonesmoke']\n",
    "# rename the request_twinbeds column to number_of_requests\n",
    "data_frame = data_frame.rename(columns = {'request_twinbeds':'number_of_requests'})\n",
    "data_frame['number_of_requests'] = data_frame['number_of_requests'].apply(lambda x: 0 if x < 1 else 1)\n",
    "data_frame.drop(['request_largebed', 'request_airport', 'request_highfloor', 'request_earlycheckin', 'request_latecheckin', 'request_nonesmoke'], axis=1, inplace=True)\n",
    "# print the correlation between the features and the is_cancelled column"
   ],
   "metadata": {
    "collapsed": false,
    "pycharm": {
     "name": "#%%\n"
    }
   }
  },
  {
   "cell_type": "code",
   "execution_count": 51,
   "outputs": [],
   "source": [],
   "metadata": {
    "collapsed": false,
    "pycharm": {
     "name": "#%%\n"
    }
   }
  },
  {
   "cell_type": "code",
   "execution_count": 52,
   "outputs": [
    {
     "name": "stdout",
     "output_type": "stream",
     "text": [
      "is_cancelled                         1.000000\n",
      "cancel_policy_8D13P_4D100P_100P      0.045697\n",
      "cancel_policy_6D2P_5D100P_100P       0.045697\n",
      "cancel_policy_3D50P_1N               0.040373\n",
      "cancel_policy_88D100P_100P           0.032049\n",
      "                                       ...   \n",
      "cancel_policy_30D90P_90P            -0.000374\n",
      "cancel_policy_14D21P_10D81P_100P    -0.000374\n",
      "cancel_policy_90D90P_90P            -0.000374\n",
      "cancel_policy_13D21P_10D100P_100P   -0.000374\n",
      "cancel_policy_9D51P_7D100P_100P     -0.000374\n",
      "Name: is_cancelled, Length: 80, dtype: float64\n",
      "cancel_policy_365D100P_100P         -0.048072\n",
      "cancel_policy_7D1N_1N               -0.007420\n",
      "cancel_policy_4D100P_100P           -0.007168\n",
      "cancel_policy_3D1N_1N               -0.005526\n",
      "cancel_policy_7D1N_3D100P_100P      -0.004921\n",
      "cancel_policy_30D100P_100P          -0.004761\n",
      "cancel_policy_7D1N_100P             -0.004253\n",
      "cancel_policy_14D1N_7D100P_100P     -0.003939\n",
      "cancel_policy_14D50P_7D100P_100P    -0.003849\n",
      "cancel_policy_6D100P                -0.003794\n",
      "cancel_policy_10D100P_100P          -0.003794\n",
      "cancel_policy_0D100P                -0.003405\n",
      "cancel_policy_5D1N_100P             -0.003258\n",
      "cancel_policy_8D100P_100P           -0.003215\n",
      "cancel_policy_14D1N_1N              -0.003171\n",
      "cancel_policy_1D0N_1N               -0.003149\n",
      "cancel_policy_7D1N_1D100P_100P      -0.002966\n",
      "cancel_policy_30D50P_14D100P_100P   -0.002919\n",
      "cancel_policy_10D100P               -0.002919\n",
      "cancel_policy_21D100P_100P          -0.002895\n",
      "Name: is_cancelled, dtype: float64\n"
     ]
    }
   ],
   "source": [
    "delete_columns = []\n",
    "dummy_2 = pd.get_dummies(data_frame['cancellation_policy_code'],prefix=\"cancel_policy\")\n",
    "dummy_2['is_cancelled'] = data_frame['is_cancelled']\n",
    "print(dummy_2.corr()['is_cancelled'].sort_values(ascending=False)[:80])\n",
    "print(dummy_2.corr()['is_cancelled'].sort_values(ascending=True)[:20])\n",
    "for col in dummy_2:\n",
    "    if(dummy_2[col].sum() < 200):\n",
    "        dummy_2.drop(col, inplace=True, axis=1)\n",
    "# for col in dummy_2:\n",
    "#     if(col == 'is_cancelled'):\n",
    "#         continue\n",
    "#     if(np.abs(dummy_2['is_cancelled'].corr(dummy_2[col])) < 0.005):\n",
    "#         dummy_2.drop(col, inplace=True, axis=1)\n",
    "#         delete_columns.append(col)\n",
    "# print(delete_columns)\n",
    "#data_frame = pd.concat([data_frame, dummy], axis=1)\n",
    "# print the correlation between the features and the is_cancelled column\n",
    "dummy_2.drop('is_cancelled', inplace=True, axis=1)\n",
    "# concat the dummies to the data_frame\n",
    "data_frame = pd.concat([data_frame, dummy_2], axis=1)"
   ],
   "metadata": {
    "collapsed": false,
    "pycharm": {
     "name": "#%%# print # check for missing values\n"
    }
   }
  },
  {
   "cell_type": "code",
   "execution_count": 53,
   "outputs": [],
   "source": [
    "\n",
    "# # fill missing values of the hotel_chain_code column with \"Unknown\"\n",
    "# data_frame['hotel_chain_code'] = data_frame['hotel_chain_code'].fillna(\"Unknown\")\n",
    "# # fill missing values of the hotel_brand_code column with \"Unknown\"\n",
    "# data_frame['hotel_brand_code'] = data_frame['hotel_brand_code'].fillna(\"Unknown\")\n",
    "# dummy = pd.get_dummies(data_frame['hotel_chain_code'], prefix='hbc_')\n",
    "# for col in dummy:\n",
    "#     if(dummy[col].sum() < 200):\n",
    "#         dummy.drop(col, inplace=True, axis=1)\n",
    "# # conect the dummies to the data frame\n",
    "# data_frame = pd.concat([data_frame, dummy], axis=1)\n",
    "# # print the correlation between the features and the is_cancelled column\n",
    "# data_frame.corr()['is_cancelled'].sort_values(ascending=False)"
   ],
   "metadata": {
    "collapsed": false,
    "pycharm": {
     "name": "#%%\n"
    }
   }
  },
  {
   "cell_type": "code",
   "execution_count": 54,
   "outputs": [],
   "source": [
    "# explore the data in the Booking_datetime column\n",
    "# and the checkin_date and checkout_date columns\n",
    "# calculate the difference in days between the Booking_datetime and the checkin_date\n",
    "# and the difference in days between the Booking_datetime and the checkout_date\n",
    "\n",
    "data_frame['checkin_date'] = data_frame['checkin_date'].apply(pd.to_datetime)\n",
    "data_frame['checkout_date'] = data_frame['checkout_date'].apply(pd.to_datetime)\n",
    "data_frame['booking_datetime'] = data_frame['booking_datetime'].apply(pd.to_datetime)\n",
    "# insert new column with the difference in days between the Booking_datetime and the checkin_date\n",
    "data_frame['Lead_day'] = (data_frame['checkin_date'] - data_frame['booking_datetime']).dt.days\n",
    "data_frame['stay_len'] = (data_frame['checkout_date'] - data_frame['checkin_date']).dt.days\n",
    "# replace all the negative values with 0\n",
    "data_frame['Lead_day'] = data_frame['Lead_day'].apply(lambda x: 0 if x < 0 else x)\n",
    "data_frame['stay_len'] = data_frame['stay_len'].apply(lambda x: 0 if x < 0 else x)"
   ],
   "metadata": {
    "collapsed": false,
    "pycharm": {
     "name": "#%%\n"
    }
   }
  },
  {
   "cell_type": "code",
   "execution_count": 55,
   "outputs": [],
   "source": [
    "data_frame['original_payment_type'] = data_frame['original_payment_type'].apply(lambda x: 0 if x == 'Credit Card' else 1)"
   ],
   "metadata": {
    "collapsed": false,
    "pycharm": {
     "name": "#%%\n"
    }
   }
  },
  {
   "cell_type": "code",
   "execution_count": 55,
   "outputs": [],
   "source": [],
   "metadata": {
    "collapsed": false,
    "pycharm": {
     "name": "#%%\n"
    }
   }
  },
  {
   "cell_type": "code",
   "execution_count": 56,
   "outputs": [
    {
     "name": "stdout",
     "output_type": "stream",
     "text": [
      "is_cancelled              1.000000\n",
      "origin_country_code_MT    0.052552\n",
      "origin_country_code_MO    0.051798\n",
      "origin_country_code_DZ    0.040774\n",
      "origin_country_code_AO    0.036990\n",
      "                            ...   \n",
      "origin_country_code_MZ   -0.000647\n",
      "origin_country_code_IS   -0.000647\n",
      "origin_country_code_CD   -0.000747\n",
      "origin_country_code_JE   -0.000747\n",
      "origin_country_code_CL   -0.000747\n",
      "Name: is_cancelled, Length: 80, dtype: float64\n",
      "origin_country_code_MY   -0.019134\n",
      "origin_country_code_TH   -0.017482\n",
      "origin_country_code_ID   -0.009849\n",
      "origin_country_code_SA   -0.006008\n",
      "origin_country_code_RU   -0.005895\n",
      "origin_country_code_ZA   -0.004686\n",
      "origin_country_code_KR   -0.004684\n",
      "origin_country_code_VN   -0.004393\n",
      "origin_country_code_MM   -0.004361\n",
      "origin_country_code_LK   -0.004312\n",
      "origin_country_code_LA   -0.003585\n",
      "origin_country_code_DE   -0.003497\n",
      "origin_country_code_AE   -0.003228\n",
      "origin_country_code_AT   -0.003149\n",
      "origin_country_code_CN   -0.002967\n",
      "origin_country_code_NZ   -0.002909\n",
      "origin_country_code_ES   -0.002909\n",
      "origin_country_code_BH   -0.002895\n",
      "origin_country_code_KW   -0.002870\n",
      "origin_country_code_IT   -0.002763\n",
      "Name: is_cancelled, dtype: float64\n"
     ]
    }
   ],
   "source": [
    "dummy = pd.get_dummies(data_frame['origin_country_code'], prefix=\"origin_country_code\")\n",
    "dummy.insert(0, 'is_cancelled',data_frame['is_cancelled'])\n",
    "dummy.fillna(\"none\")\n",
    "print(dummy.corr()['is_cancelled'].sort_values(ascending=False)[:80])\n",
    "print(dummy.corr()['is_cancelled'].sort_values(ascending=True)[:20])\n",
    "counter = 0\n",
    "for col in dummy:\n",
    "    if(dummy[col].sum() < 200):\n",
    "        dummy.drop(col, inplace=True, axis=1)\n",
    "        delete_columns.append(col)\n",
    "# for col in dummy:\n",
    "#     if(col == 'is_cancelled'):\n",
    "#         continue\n",
    "#     if(np.abs(dummy['is_cancelled'].corr(dummy[col])) < 0.005):\n",
    "#         dummy.drop(col, inplace=True, axis=1)\n",
    "#         delete_columns.append(col)\n",
    "# print(delete_columns)\n",
    "dummy.drop('is_cancelled', inplace=True, axis=1)\n",
    "data_frame = pd.concat([data_frame, dummy], axis=1)"
   ],
   "metadata": {
    "collapsed": false,
    "pycharm": {
     "name": "#%%\n"
    }
   }
  },
  {
   "cell_type": "code",
   "execution_count": 57,
   "outputs": [],
   "source": [
    "dummy_2 = pd.get_dummies(data_frame['guest_nationality_country_name'], prefix=\"guest_national\")\n",
    "dummy_2['is_cancelled'] = data_frame['is_cancelled']\n",
    "# print(dummy_2.corr()['is_cancelled'].sort_values(ascending=False)[:80])\n",
    "# print(dummy_2.corr()['is_cancelled'].sort_values(ascending=True)[:20])\n",
    "for col in dummy_2:\n",
    "    if(dummy_2[col].sum() < 100):\n",
    "        dummy_2.drop(col, inplace=True, axis=1)\n",
    "        delete_columns.append(col)\n",
    "# for col in dummy_2:\n",
    "#     if(col == 'is_cancelled'):\n",
    "#         continue\n",
    "#     if(np.abs(dummy_2['is_cancelled'].corr(dummy_2[col])) < 0.005):\n",
    "#         dummy_2.drop(col, inplace=True, axis=1)\n",
    "#         delete_columns.append(col)\n",
    "#data_frame = pd.concat([data_frame, dummy], axis=1)\n",
    "# print the correlation between the features and the is_cancelled column\n",
    "dummy_2.drop('is_cancelled', inplace=True, axis=1)"
   ],
   "metadata": {
    "collapsed": false,
    "pycharm": {
     "name": "#%%\n"
    }
   }
  },
  {
   "cell_type": "code",
   "execution_count": 58,
   "outputs": [],
   "source": [
    "# concat the dummies to the data frame\n",
    "data_frame = pd.concat([data_frame, dummy_2], axis=1)\n",
    "# data_frame.drop(['guest_nationality_country_name', 'customer_natio'], axis=1, inlpace=True)"
   ],
   "metadata": {
    "collapsed": false,
    "pycharm": {
     "name": "#%%\n"
    }
   }
  },
  {
   "cell_type": "code",
   "execution_count": 59,
   "outputs": [
    {
     "name": "stdout",
     "output_type": "stream",
     "text": [
      "Index(['booking_datetime', 'checkin_date', 'checkout_date', 'hotel_id',\n",
      "       'hotel_country_code', 'hotel_live_date', 'hotel_star_rating',\n",
      "       'accommadation_type_name', 'charge_option', 'customer_nationality',\n",
      "       ...\n",
      "       'guest_national_Spain', 'guest_national_Sweden',\n",
      "       'guest_national_Switzerland', 'guest_national_Taiwan',\n",
      "       'guest_national_Thailand', 'guest_national_Turkey',\n",
      "       'guest_national_United Arab Emirates', 'guest_national_United Kingdom',\n",
      "       'guest_national_United States', 'guest_national_Vietnam'],\n",
      "      dtype='object', length=127)\n"
     ]
    }
   ],
   "source": [
    "print(data_frame.columns)\n",
    "data_frame.drop(['cancellation_policy_code', 'checkout_date', 'origin_country_code','guest_nationality_country_name','hotel_id','hotel_live_date', 'hotel_country_code','hotel_live_date','customer_nationality', 'guest_nationality_country_name',\n",
    "                 'origin_country_code'], axis=1, inplace=True)"
   ],
   "metadata": {
    "collapsed": false,
    "pycharm": {
     "name": "#%%\n"
    }
   }
  },
  {
   "cell_type": "code",
   "execution_count": 60,
   "outputs": [
    {
     "name": "stdout",
     "output_type": "stream",
     "text": [
      "Index(['type_hotel_Apartment', 'type_hotel_Boat / Cruise',\n",
      "       'type_hotel_Bungalow', 'type_hotel_Capsule Hotel', 'type_hotel_Chalet',\n",
      "       'type_hotel_Guest House / Bed & Breakfast',\n",
      "       'type_hotel_Holiday Park / Caravan Park', 'type_hotel_Home',\n",
      "       'type_hotel_Homestay', 'type_hotel_Hostel', 'type_hotel_Hotel',\n",
      "       'type_hotel_Inn', 'type_hotel_Lodge', 'type_hotel_Love Hotel',\n",
      "       'type_hotel_Motel', 'type_hotel_Private Villa', 'type_hotel_Resort',\n",
      "       'type_hotel_Resort Villa', 'type_hotel_Ryokan',\n",
      "       'type_hotel_Serviced Apartment', 'type_hotel_Tent',\n",
      "       'type_hotel_UNKNOWN', 'is_cancelled'],\n",
      "      dtype='object')\n"
     ]
    }
   ],
   "source": [
    "dummy_3 = pd.get_dummies(data_frame['accommadation_type_name'], prefix=\"type_hotel\")\n",
    "dummy_3['is_cancelled'] = data_frame['is_cancelled']\n",
    "print(dummy_3.columns)\n",
    "for col in dummy_3:\n",
    "    if(dummy_3[col].sum() < 100):\n",
    "        dummy_3.drop(col, inplace=True, axis=1)\n",
    "        delete_columns.append(col)\n",
    "#data_frame = pd.concat([data_frame, dummy], axis=1)\n",
    "# print the correlation between the features and the is_cancelled column\n",
    "dummy_3.drop('is_cancelled', inplace=True, axis=1)\n"
   ],
   "metadata": {
    "collapsed": false,
    "pycharm": {
     "name": "#%%\n"
    }
   }
  },
  {
   "cell_type": "code",
   "execution_count": 61,
   "outputs": [
    {
     "name": "stdout",
     "output_type": "stream",
     "text": [
      "Index(['booking_datetime', 'checkin_date', 'hotel_star_rating',\n",
      "       'accommadation_type_name', 'charge_option', 'guest_is_not_the_customer',\n",
      "       'no_of_adults', 'no_of_children', 'request_extra_bed', 'no_of_room',\n",
      "       ...\n",
      "       'type_hotel_Capsule Hotel', 'type_hotel_Guest House / Bed & Breakfast',\n",
      "       'type_hotel_Home', 'type_hotel_Hostel', 'type_hotel_Hotel',\n",
      "       'type_hotel_Motel', 'type_hotel_Resort', 'type_hotel_Resort Villa',\n",
      "       'type_hotel_Ryokan', 'type_hotel_Serviced Apartment'],\n",
      "      dtype='object', length=131)\n",
      "<class 'pandas.core.frame.DataFrame'>\n",
      "Int64Index: 58588 entries, 0 to 58658\n",
      "Columns: 131 entries, booking_datetime to type_hotel_Serviced Apartment\n",
      "dtypes: bool(2), datetime64[ns](3), float64(4), int64(12), object(1), uint8(109)\n",
      "memory usage: 15.6+ MB\n",
      "None\n",
      "booking_datetime                 0\n",
      "checkin_date                     0\n",
      "hotel_star_rating                0\n",
      "accommadation_type_name          0\n",
      "charge_option                    0\n",
      "                                ..\n",
      "type_hotel_Motel                 0\n",
      "type_hotel_Resort                0\n",
      "type_hotel_Resort Villa          0\n",
      "type_hotel_Ryokan                0\n",
      "type_hotel_Serviced Apartment    0\n",
      "Length: 131, dtype: int64\n",
      "(58588, 131)\n"
     ]
    }
   ],
   "source": [
    "data_frame = pd.concat([data_frame, dummy_3], axis=1)\n",
    "# print the correlation between the features and the is_cancelled column\n",
    "print(data_frame.columns)\n",
    "print(data_frame.info())\n",
    "print(data_frame.isnull().sum())\n",
    "print(data_frame.shape)\n"
   ],
   "metadata": {
    "collapsed": false,
    "pycharm": {
     "name": "#%%\n"
    }
   }
  },
  {
   "cell_type": "code",
   "execution_count": 62,
   "outputs": [],
   "source": [
    "data_frame.drop(['accommadation_type_name'], axis=1, inplace=True)"
   ],
   "metadata": {
    "collapsed": false,
    "pycharm": {
     "name": "#%%\n"
    }
   }
  },
  {
   "cell_type": "markdown",
   "source": [],
   "metadata": {
    "collapsed": false
   }
  },
  {
   "cell_type": "code",
   "execution_count": 64,
   "outputs": [],
   "source": [
    "# create a new csv file with the new data frame\n",
    "# data_frame.to_csv('new_data_frame.csv', index=False)"
   ],
   "metadata": {
    "collapsed": false,
    "pycharm": {
     "name": "#%%\n"
    }
   }
  },
  {
   "cell_type": "code",
   "execution_count": 65,
   "outputs": [
    {
     "name": "stdout",
     "output_type": "stream",
     "text": [
      "Index(['booking_datetime', 'checkin_date', 'hotel_star_rating',\n",
      "       'charge_option', 'guest_is_not_the_customer', 'no_of_adults',\n",
      "       'no_of_children', 'request_extra_bed', 'no_of_room',\n",
      "       'original_selling_amount',\n",
      "       ...\n",
      "       'type_hotel_Capsule Hotel', 'type_hotel_Guest House / Bed & Breakfast',\n",
      "       'type_hotel_Home', 'type_hotel_Hostel', 'type_hotel_Hotel',\n",
      "       'type_hotel_Motel', 'type_hotel_Resort', 'type_hotel_Resort Villa',\n",
      "       'type_hotel_Ryokan', 'type_hotel_Serviced Apartment'],\n",
      "      dtype='object', length=130)\n",
      "<class 'pandas.core.frame.DataFrame'>\n",
      "Int64Index: 58588 entries, 0 to 58658\n",
      "Columns: 130 entries, booking_datetime to type_hotel_Serviced Apartment\n",
      "dtypes: bool(2), datetime64[ns](3), float64(4), int64(12), uint8(109)\n",
      "memory usage: 15.1 MB\n",
      "None\n",
      "booking_datetime                 0\n",
      "checkin_date                     0\n",
      "hotel_star_rating                0\n",
      "charge_option                    0\n",
      "guest_is_not_the_customer        0\n",
      "                                ..\n",
      "type_hotel_Motel                 0\n",
      "type_hotel_Resort                0\n",
      "type_hotel_Resort Villa          0\n",
      "type_hotel_Ryokan                0\n",
      "type_hotel_Serviced Apartment    0\n",
      "Length: 130, dtype: int64\n",
      "(58588, 130)\n"
     ]
    }
   ],
   "source": [
    "print(data_frame.columns)\n",
    "print(data_frame.info())\n",
    "print(data_frame.isnull().sum())\n",
    "print(data_frame.shape)"
   ],
   "metadata": {
    "collapsed": false,
    "pycharm": {
     "name": "#%%\n"
    }
   }
  },
  {
   "cell_type": "code",
   "execution_count": null,
   "outputs": [],
   "source": [],
   "metadata": {
    "collapsed": false,
    "pycharm": {
     "name": "#%%"
    }
   }
  }
 ],
 "metadata": {
  "kernelspec": {
   "display_name": "Python 3",
   "language": "python",
   "name": "python3"
  },
  "language_info": {
   "codemirror_mode": {
    "name": "ipython",
    "version": 2
   },
   "file_extension": ".py",
   "mimetype": "text/x-python",
   "name": "python",
   "nbconvert_exporter": "python",
   "pygments_lexer": "ipython2",
   "version": "2.7.6"
  }
 },
 "nbformat": 4,
 "nbformat_minor": 0
}