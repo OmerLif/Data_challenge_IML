{
 "cells": [
  {
   "cell_type": "code",
   "execution_count": 2,
   "metadata": {
    "collapsed": true
   },
   "outputs": [],
   "source": [
    "# import the necessary laibrary\n",
    "import astropy.io.fits\n",
    "import numpy as np\n",
    "import pandas as pd\n",
    "import matplotlib.pyplot as plt\n",
    "import sklearn as sk\n",
    "from sklearn.model_selection import train_test_split\n",
    "# import logistic regression\n",
    "from sklearn.linear_model import LogisticRegression\n",
    "# import KNN classifier\n",
    "from sklearn.neighbors import KNeighborsClassifier\n",
    "# import SVM classifier\n",
    "from sklearn.svm import SVC\n",
    "import plotly.graph_objects as go\n",
    "import plotly.io as pio\n",
    "pio.templates.default = \"simple_white\"\n",
    "import  plotly.express as px"
   ]
  },
  {
   "cell_type": "code",
   "execution_count": 3,
   "outputs": [],
   "source": [
    "# load the data\n",
    "data = pd.read_csv(\"C:\\\\Users\\omerl\\OneDrive\\Desktop\\iml_repo\\IML.HUJI\\datasets\\\\agoda_cancellation_train.csv\",engine='python')\n",
    "data_frame = pd.DataFrame(data)"
   ],
   "metadata": {
    "collapsed": false,
    "pycharm": {
     "name": "#%%\n"
    }
   }
  },
  {
   "cell_type": "code",
   "execution_count": 4,
   "outputs": [],
   "source": [
    "# get dummies for the categorical charge options\n",
    "data_frame['charge_option'] = data_frame['charge_option'].apply(lambda x: 1 if x == 'Pay Now' else 0)"
   ],
   "metadata": {
    "collapsed": false,
    "pycharm": {
     "name": "#%%\n"
    }
   }
  },
  {
   "cell_type": "code",
   "execution_count": 5,
   "outputs": [
    {
     "data": {
      "text/plain": "Index(['h_booking_id', 'booking_datetime', 'checkin_date', 'checkout_date',\n       'hotel_id', 'hotel_country_code', 'hotel_live_date',\n       'hotel_star_rating', 'accommadation_type_name', 'charge_option',\n       'h_customer_id', 'customer_nationality', 'guest_is_not_the_customer',\n       'guest_nationality_country_name', 'no_of_adults', 'no_of_children',\n       'no_of_extra_bed', 'no_of_room', 'origin_country_code', 'language',\n       'original_selling_amount', 'original_payment_method',\n       'original_payment_type', 'original_payment_currency',\n       'is_user_logged_in', 'cancellation_policy_code', 'is_first_booking',\n       'request_nonesmoke', 'request_latecheckin', 'request_highfloor',\n       'request_largebed', 'request_twinbeds', 'request_airport',\n       'request_earlycheckin', 'cancellation_datetime', 'hotel_area_code',\n       'hotel_brand_code', 'hotel_chain_code', 'hotel_city_code'],\n      dtype='object')"
     },
     "execution_count": 5,
     "metadata": {},
     "output_type": "execute_result"
    }
   ],
   "source": [
    "# describe the data\n",
    "data_frame.describe()\n",
    "data_frame.columns"
   ],
   "metadata": {
    "collapsed": false,
    "pycharm": {
     "name": "#%%\n"
    }
   }
  },
  {
   "cell_type": "code",
   "execution_count": 6,
   "outputs": [],
   "source": [
    "# fill missing values at cancellation_datetime column with zero values\n",
    "data_frame['cancellation_datetime'] = data_frame['cancellation_datetime'].fillna(0)\n",
    "data_frame['cancellation_datetime'] = (\n",
    "    pd.to_numeric(data_frame['cancellation_datetime'],errors='coerce').fillna(1))\n",
    "data_frame=data_frame.rename(columns = {'cancellation_datetime':'is_cancelled'})\n"
   ],
   "metadata": {
    "collapsed": false,
    "pycharm": {
     "name": "#%%\n"
    }
   }
  },
  {
   "cell_type": "code",
   "execution_count": 7,
   "outputs": [],
   "source": [
    "# drop columns that are not relevant to the prediction\n",
    "data_frame = data_frame.drop(['h_customer_id', 'h_booking_id', 'hotel_area_code'], axis=1)\n",
    "data_frame = data_frame.drop(['original_payment_method', 'language','original_payment_currency'], axis=1)"
   ],
   "metadata": {
    "collapsed": false,
    "pycharm": {
     "name": "#%%\n"
    }
   }
  },
  {
   "cell_type": "code",
   "execution_count": 8,
   "outputs": [],
   "source": [
    "# fill missing values with 0 at the following columns\n",
    "data_frame['request_nonesmoke'] = data_frame['request_nonesmoke'].fillna(0)\n",
    "data_frame['request_earlycheckin'] = data_frame['request_earlycheckin'].fillna(0)\n",
    "data_frame['request_latecheckin'] = data_frame['request_latecheckin'].fillna(0)\n",
    "data_frame['request_twinbeds'] = data_frame['request_twinbeds'].fillna(0)\n",
    "data_frame['request_largebed'] = data_frame['request_largebed'].fillna(0)\n",
    "data_frame['request_airport'] = data_frame['request_airport'].fillna(0)\n",
    "data_frame['request_highfloor'] = data_frame['request_highfloor'].fillna(0)\n",
    "data_frame['no_of_extra_bed'] = data_frame['no_of_extra_bed'].apply(lambda x: 1 if x>=1 else 0)\n",
    "data_frame = data_frame.rename(columns = {'no_of_extra_bed':'request_extra_bed'})\n",
    "### merge all request_* columns into one column\n",
    "data_frame['request_twinbeds'] = data_frame['request_largebed'] + data_frame['request_twinbeds'] + data_frame['request_airport'] + data_frame['request_highfloor'] + data_frame['request_earlycheckin'] + data_frame['request_latecheckin'] + data_frame['request_nonesmoke']\n",
    "# rename the request_twinbeds column to number_of_requests\n",
    "data_frame = data_frame.rename(columns = {'request_twinbeds':'number_of_requests'})\n",
    "data_frame['number_of_requests'] = data_frame['number_of_requests'].apply(lambda x: 0 if x < 1 else 1)\n",
    "data_frame.drop(['request_largebed', 'request_airport', 'request_highfloor', 'request_earlycheckin', 'request_latecheckin', 'request_nonesmoke'], axis=1, inplace=True)\n",
    "# print the correlation between the features and the is_cancelled column"
   ],
   "metadata": {
    "collapsed": false,
    "pycharm": {
     "name": "#%%\n"
    }
   }
  },
  {
   "cell_type": "code",
   "execution_count": 8,
   "outputs": [],
   "source": [],
   "metadata": {
    "collapsed": false,
    "pycharm": {
     "name": "#%%\n"
    }
   }
  },
  {
   "cell_type": "code",
   "execution_count": 9,
   "outputs": [],
   "source": [
    "dummy_2 = pd.get_dummies(data_frame['cancellation_policy_code'],prefix=\"cancel_policy\")\n",
    "dummy_2['is_cancelled'] = data_frame['is_cancelled']\n",
    "for col in dummy_2:\n",
    "    if(dummy_2[col].sum() < 200):\n",
    "        dummy_2.drop(col, inplace=True, axis=1)\n",
    "for col in dummy_2:\n",
    "    if(col == 'is_cancelled'):\n",
    "        continue\n",
    "    if(np.abs(dummy_2['is_cancelled'].corr(dummy_2[col])) < 0.02):\n",
    "        dummy_2.drop(col, inplace=True, axis=1)\n",
    "#data_frame = pd.concat([data_frame, dummy], axis=1)\n",
    "# print the correlation between the features and the is_cancelled column\n",
    "dummy_2.drop('is_cancelled', inplace=True, axis=1)\n",
    "# concat the dummies to the data_frame\n",
    "data_frame = pd.concat([data_frame, dummy_2], axis=1)"
   ],
   "metadata": {
    "collapsed": false,
    "pycharm": {
     "name": "#%%# print # check for missing values\n"
    }
   }
  },
  {
   "cell_type": "code",
   "execution_count": 10,
   "outputs": [],
   "source": [
    "\n",
    "# # fill missing values of the hotel_chain_code column with \"Unknown\"\n",
    "# data_frame['hotel_chain_code'] = data_frame['hotel_chain_code'].fillna(\"Unknown\")\n",
    "# # fill missing values of the hotel_brand_code column with \"Unknown\"\n",
    "# data_frame['hotel_brand_code'] = data_frame['hotel_brand_code'].fillna(\"Unknown\")\n",
    "# dummy = pd.get_dummies(data_frame['hotel_chain_code'], prefix='hbc_')\n",
    "# for col in dummy:\n",
    "#     if(dummy[col].sum() < 200):\n",
    "#         dummy.drop(col, inplace=True, axis=1)\n",
    "# # conect the dummies to the data frame\n",
    "# data_frame = pd.concat([data_frame, dummy], axis=1)\n",
    "# # print the correlation between the features and the is_cancelled column\n",
    "# data_frame.corr()['is_cancelled'].sort_values(ascending=False)"
   ],
   "metadata": {
    "collapsed": false,
    "pycharm": {
     "name": "#%%\n"
    }
   }
  },
  {
   "cell_type": "code",
   "execution_count": 11,
   "outputs": [],
   "source": [
    "# explore the data in the Booking_datetime column\n",
    "# and the checkin_date and checkout_date columns\n",
    "# calculate the difference in days between the Booking_datetime and the checkin_date\n",
    "# and the difference in days between the Booking_datetime and the checkout_date\n",
    "\n",
    "data_frame['checkin_date'] = data_frame['checkin_date'].apply(pd.to_datetime)\n",
    "data_frame['checkout_date'] = data_frame['checkout_date'].apply(pd.to_datetime)\n",
    "data_frame['booking_datetime'] = data_frame['booking_datetime'].apply(pd.to_datetime)\n",
    "# insert new column with the difference in days between the Booking_datetime and the checkin_date\n",
    "data_frame['Lead_day'] = (data_frame['checkin_date'] - data_frame['booking_datetime']).dt.days\n",
    "data_frame['stay_len'] = (data_frame['checkout_date'] - data_frame['checkin_date']).dt.days\n",
    "# replace all the negative values with 0\n",
    "data_frame['Lead_day'] = data_frame['Lead_day'].apply(lambda x: 0 if x < 0 else x)\n",
    "data_frame['stay_len'] = data_frame['stay_len'].apply(lambda x: 0 if x < 0 else x)"
   ],
   "metadata": {
    "collapsed": false,
    "pycharm": {
     "name": "#%%\n"
    }
   }
  },
  {
   "cell_type": "code",
   "execution_count": 12,
   "outputs": [],
   "source": [
    "data_frame['original_payment_type'] = data_frame['original_payment_type'].apply(lambda x: 0 if x == 'Credit Card' else 1)"
   ],
   "metadata": {
    "collapsed": false,
    "pycharm": {
     "name": "#%%\n"
    }
   }
  },
  {
   "cell_type": "code",
   "execution_count": 13,
   "outputs": [],
   "source": [
    "dummy = pd.get_dummies(data_frame['origin_country_code'], prefix=\"origin_country_code\")\n",
    "dummy.insert(0, 'is_cancelled',data_frame['is_cancelled'])\n",
    "dummy.fillna(\"none\")\n",
    "counter = 0\n",
    "for col in dummy:\n",
    "    if(dummy[col].sum() < 200):\n",
    "        dummy.drop(col, inplace=True, axis=1)\n",
    "for col in dummy:\n",
    "    if(col == 'is_cancelled'):\n",
    "        continue\n",
    "    if(np.abs(dummy['is_cancelled'].corr(dummy[col])) < 0.01):\n",
    "        dummy.drop(col, inplace=True, axis=1)\n",
    "dummy.drop('is_cancelled', inplace=True, axis=1)\n",
    "data_frame = pd.concat([data_frame, dummy], axis=1)"
   ],
   "metadata": {
    "collapsed": false,
    "pycharm": {
     "name": "#%%\n"
    }
   }
  },
  {
   "cell_type": "code",
   "execution_count": 14,
   "outputs": [],
   "source": [
    "dummy_2 = pd.get_dummies(data_frame['guest_nationality_country_name'], prefix=\"guest_national\")\n",
    "dummy_2['is_cancelled'] = data_frame['is_cancelled']\n",
    "for col in dummy_2:\n",
    "    if(dummy_2[col].sum() < 100):\n",
    "        dummy_2.drop(col, inplace=True, axis=1)\n",
    "for col in dummy_2:\n",
    "    if(col == 'is_cancelled'):\n",
    "        continue\n",
    "    if(np.abs(dummy_2['is_cancelled'].corr(dummy_2[col])) < 0.01):\n",
    "        dummy_2.drop(col, inplace=True, axis=1)\n",
    "#data_frame = pd.concat([data_frame, dummy], axis=1)\n",
    "# print the correlation between the features and the is_cancelled column\n",
    "dummy_2.drop('is_cancelled', inplace=True, axis=1)"
   ],
   "metadata": {
    "collapsed": false,
    "pycharm": {
     "name": "#%%\n"
    }
   }
  },
  {
   "cell_type": "code",
   "execution_count": 15,
   "outputs": [],
   "source": [
    "# concat the dummies to the data frame\n",
    "data_frame = pd.concat([data_frame, dummy_2], axis=1)\n",
    "# data_frame.drop(['guest_nationality_country_name', 'customer_natio'], axis=1, inlpace=True)"
   ],
   "metadata": {
    "collapsed": false,
    "pycharm": {
     "name": "#%%\n"
    }
   }
  },
  {
   "cell_type": "code",
   "execution_count": 16,
   "outputs": [
    {
     "name": "stdout",
     "output_type": "stream",
     "text": [
      "Index(['booking_datetime', 'checkin_date', 'checkout_date', 'hotel_id',\n",
      "       'hotel_country_code', 'hotel_live_date', 'hotel_star_rating',\n",
      "       'accommadation_type_name', 'charge_option', 'customer_nationality',\n",
      "       'guest_is_not_the_customer', 'guest_nationality_country_name',\n",
      "       'no_of_adults', 'no_of_children', 'request_extra_bed', 'no_of_room',\n",
      "       'origin_country_code', 'original_selling_amount',\n",
      "       'original_payment_type', 'is_user_logged_in',\n",
      "       'cancellation_policy_code', 'is_first_booking', 'number_of_requests',\n",
      "       'is_cancelled', 'hotel_brand_code', 'hotel_chain_code',\n",
      "       'hotel_city_code', 'cancel_policy_0D0N', 'cancel_policy_14D100P',\n",
      "       'cancel_policy_1D0N_100P', 'cancel_policy_1D100P',\n",
      "       'cancel_policy_1D100P_100P', 'cancel_policy_1D1N_100P',\n",
      "       'cancel_policy_1D1N_1N', 'cancel_policy_1D20P_100P',\n",
      "       'cancel_policy_1D50P_100P', 'cancel_policy_2D100P',\n",
      "       'cancel_policy_2D100P_100P', 'cancel_policy_2D1N_1N',\n",
      "       'cancel_policy_365D100P_100P', 'cancel_policy_3D100P',\n",
      "       'cancel_policy_3D100P_100P', 'cancel_policy_3D1N_100P',\n",
      "       'cancel_policy_3D50P_100P', 'cancel_policy_5D100P_100P',\n",
      "       'cancel_policy_7D100P', 'cancel_policy_7D100P_100P', 'Lead_day',\n",
      "       'stay_len', 'origin_country_code_AE', 'origin_country_code_AU',\n",
      "       'origin_country_code_DE', 'origin_country_code_ES',\n",
      "       'origin_country_code_HK', 'origin_country_code_ID',\n",
      "       'origin_country_code_JP', 'origin_country_code_KR',\n",
      "       'origin_country_code_MO', 'origin_country_code_MY',\n",
      "       'origin_country_code_RU', 'origin_country_code_SA',\n",
      "       'origin_country_code_SG', 'origin_country_code_TH',\n",
      "       'origin_country_code_TR', 'origin_country_code_TW',\n",
      "       'origin_country_code_US', 'origin_country_code_VN',\n",
      "       'guest_national_Australia', 'guest_national_Brunei Darussalam',\n",
      "       'guest_national_China', 'guest_national_France',\n",
      "       'guest_national_Germany', 'guest_national_Hong Kong',\n",
      "       'guest_national_Indonesia', 'guest_national_Japan',\n",
      "       'guest_national_Macau', 'guest_national_Malaysia',\n",
      "       'guest_national_New Zealand', 'guest_national_Norway',\n",
      "       'guest_national_Pakistan', 'guest_national_Russia',\n",
      "       'guest_national_Saudi Arabia', 'guest_national_Singapore',\n",
      "       'guest_national_South Korea', 'guest_national_Spain',\n",
      "       'guest_national_Switzerland', 'guest_national_Taiwan',\n",
      "       'guest_national_Thailand', 'guest_national_Turkey',\n",
      "       'guest_national_United States'],\n",
      "      dtype='object')\n"
     ]
    }
   ],
   "source": [
    "print(data_frame.columns)\n",
    "data_frame.drop(['cancellation_policy_code', 'checkin_date', 'booking_datetime','checkout_date', 'origin_country_code','guest_nationality_country_name','hotel_id','hotel_live_date', 'hotel_country_code','hotel_live_date','customer_nationality',\n",
    "                 'guest_is_not_the_customer','guest_nationality_country_name',\n",
    "                 'origin_country_code'], axis=1, inplace=True)"
   ],
   "metadata": {
    "collapsed": false,
    "pycharm": {
     "name": "#%%\n"
    }
   }
  },
  {
   "cell_type": "code",
   "execution_count": 17,
   "outputs": [
    {
     "name": "stdout",
     "output_type": "stream",
     "text": [
      "<class 'pandas.core.frame.DataFrame'>\n",
      "RangeIndex: 58659 entries, 0 to 58658\n",
      "Data columns (total 79 columns):\n",
      " #   Column                            Non-Null Count  Dtype  \n",
      "---  ------                            --------------  -----  \n",
      " 0   hotel_star_rating                 58659 non-null  float64\n",
      " 1   accommadation_type_name           58659 non-null  object \n",
      " 2   charge_option                     58659 non-null  int64  \n",
      " 3   no_of_adults                      58659 non-null  int64  \n",
      " 4   no_of_children                    58659 non-null  int64  \n",
      " 5   request_extra_bed                 58659 non-null  int64  \n",
      " 6   no_of_room                        58659 non-null  int64  \n",
      " 7   original_selling_amount           58659 non-null  float64\n",
      " 8   original_payment_type             58659 non-null  int64  \n",
      " 9   is_user_logged_in                 58659 non-null  bool   \n",
      " 10  is_first_booking                  58659 non-null  bool   \n",
      " 11  number_of_requests                58659 non-null  int64  \n",
      " 12  is_cancelled                      58659 non-null  float64\n",
      " 13  hotel_brand_code                  15303 non-null  float64\n",
      " 14  hotel_chain_code                  15757 non-null  float64\n",
      " 15  hotel_city_code                   58659 non-null  int64  \n",
      " 16  cancel_policy_0D0N                58659 non-null  uint8  \n",
      " 17  cancel_policy_14D100P             58659 non-null  uint8  \n",
      " 18  cancel_policy_1D0N_100P           58659 non-null  uint8  \n",
      " 19  cancel_policy_1D100P              58659 non-null  uint8  \n",
      " 20  cancel_policy_1D100P_100P         58659 non-null  uint8  \n",
      " 21  cancel_policy_1D1N_100P           58659 non-null  uint8  \n",
      " 22  cancel_policy_1D1N_1N             58659 non-null  uint8  \n",
      " 23  cancel_policy_1D20P_100P          58659 non-null  uint8  \n",
      " 24  cancel_policy_1D50P_100P          58659 non-null  uint8  \n",
      " 25  cancel_policy_2D100P              58659 non-null  uint8  \n",
      " 26  cancel_policy_2D100P_100P         58659 non-null  uint8  \n",
      " 27  cancel_policy_2D1N_1N             58659 non-null  uint8  \n",
      " 28  cancel_policy_365D100P_100P       58659 non-null  uint8  \n",
      " 29  cancel_policy_3D100P              58659 non-null  uint8  \n",
      " 30  cancel_policy_3D100P_100P         58659 non-null  uint8  \n",
      " 31  cancel_policy_3D1N_100P           58659 non-null  uint8  \n",
      " 32  cancel_policy_3D50P_100P          58659 non-null  uint8  \n",
      " 33  cancel_policy_5D100P_100P         58659 non-null  uint8  \n",
      " 34  cancel_policy_7D100P              58659 non-null  uint8  \n",
      " 35  cancel_policy_7D100P_100P         58659 non-null  uint8  \n",
      " 36  Lead_day                          58659 non-null  int64  \n",
      " 37  stay_len                          58659 non-null  int64  \n",
      " 38  origin_country_code_AE            58659 non-null  uint8  \n",
      " 39  origin_country_code_AU            58659 non-null  uint8  \n",
      " 40  origin_country_code_DE            58659 non-null  uint8  \n",
      " 41  origin_country_code_ES            58659 non-null  uint8  \n",
      " 42  origin_country_code_HK            58659 non-null  uint8  \n",
      " 43  origin_country_code_ID            58659 non-null  uint8  \n",
      " 44  origin_country_code_JP            58659 non-null  uint8  \n",
      " 45  origin_country_code_KR            58659 non-null  uint8  \n",
      " 46  origin_country_code_MO            58659 non-null  uint8  \n",
      " 47  origin_country_code_MY            58659 non-null  uint8  \n",
      " 48  origin_country_code_RU            58659 non-null  uint8  \n",
      " 49  origin_country_code_SA            58659 non-null  uint8  \n",
      " 50  origin_country_code_SG            58659 non-null  uint8  \n",
      " 51  origin_country_code_TH            58659 non-null  uint8  \n",
      " 52  origin_country_code_TR            58659 non-null  uint8  \n",
      " 53  origin_country_code_TW            58659 non-null  uint8  \n",
      " 54  origin_country_code_US            58659 non-null  uint8  \n",
      " 55  origin_country_code_VN            58659 non-null  uint8  \n",
      " 56  guest_national_Australia          58659 non-null  uint8  \n",
      " 57  guest_national_Brunei Darussalam  58659 non-null  uint8  \n",
      " 58  guest_national_China              58659 non-null  uint8  \n",
      " 59  guest_national_France             58659 non-null  uint8  \n",
      " 60  guest_national_Germany            58659 non-null  uint8  \n",
      " 61  guest_national_Hong Kong          58659 non-null  uint8  \n",
      " 62  guest_national_Indonesia          58659 non-null  uint8  \n",
      " 63  guest_national_Japan              58659 non-null  uint8  \n",
      " 64  guest_national_Macau              58659 non-null  uint8  \n",
      " 65  guest_national_Malaysia           58659 non-null  uint8  \n",
      " 66  guest_national_New Zealand        58659 non-null  uint8  \n",
      " 67  guest_national_Norway             58659 non-null  uint8  \n",
      " 68  guest_national_Pakistan           58659 non-null  uint8  \n",
      " 69  guest_national_Russia             58659 non-null  uint8  \n",
      " 70  guest_national_Saudi Arabia       58659 non-null  uint8  \n",
      " 71  guest_national_Singapore          58659 non-null  uint8  \n",
      " 72  guest_national_South Korea        58659 non-null  uint8  \n",
      " 73  guest_national_Spain              58659 non-null  uint8  \n",
      " 74  guest_national_Switzerland        58659 non-null  uint8  \n",
      " 75  guest_national_Taiwan             58659 non-null  uint8  \n",
      " 76  guest_national_Thailand           58659 non-null  uint8  \n",
      " 77  guest_national_Turkey             58659 non-null  uint8  \n",
      " 78  guest_national_United States      58659 non-null  uint8  \n",
      "dtypes: bool(2), float64(5), int64(10), object(1), uint8(61)\n",
      "memory usage: 10.7+ MB\n",
      "None\n"
     ]
    }
   ],
   "source": [
    "print(data_frame.info())"
   ],
   "metadata": {
    "collapsed": false,
    "pycharm": {
     "name": "#%%\n"
    }
   }
  },
  {
   "cell_type": "code",
   "execution_count": 18,
   "outputs": [
    {
     "name": "stdout",
     "output_type": "stream",
     "text": [
      "Hotel                            42828\n",
      "Resort                            5655\n",
      "Guest House / Bed & Breakfast     2914\n",
      "Hostel                            2633\n",
      "Serviced Apartment                1470\n",
      "Apartment                         1175\n",
      "Motel                              573\n",
      "Resort Villa                       357\n",
      "Capsule Hotel                      320\n",
      "Ryokan                             288\n",
      "Bungalow                           113\n",
      "Home                               106\n",
      "UNKNOWN                             76\n",
      "Private Villa                       62\n",
      "Holiday Park / Caravan Park         42\n",
      "Tent                                20\n",
      "Love Hotel                          10\n",
      "Boat / Cruise                        7\n",
      "Lodge                                3\n",
      "Inn                                  3\n",
      "Homestay                             2\n",
      "Chalet                               2\n",
      "Name: accommadation_type_name, dtype: int64\n"
     ]
    }
   ],
   "source": [
    "print(data_frame['accommadation_type_name'].value_counts())"
   ],
   "metadata": {
    "collapsed": false,
    "pycharm": {
     "name": "#%%\n"
    }
   }
  },
  {
   "cell_type": "markdown",
   "source": [],
   "metadata": {
    "collapsed": false
   }
  },
  {
   "cell_type": "code",
   "execution_count": 26,
   "outputs": [
    {
     "name": "stdout",
     "output_type": "stream",
     "text": [
      "Index(['type_hotel_Apartment', 'type_hotel_Boat / Cruise',\n",
      "       'type_hotel_Bungalow', 'type_hotel_Capsule Hotel', 'type_hotel_Chalet',\n",
      "       'type_hotel_Guest House / Bed & Breakfast',\n",
      "       'type_hotel_Holiday Park / Caravan Park', 'type_hotel_Home',\n",
      "       'type_hotel_Homestay', 'type_hotel_Hostel', 'type_hotel_Hotel',\n",
      "       'type_hotel_Inn', 'type_hotel_Lodge', 'type_hotel_Love Hotel',\n",
      "       'type_hotel_Motel', 'type_hotel_Private Villa', 'type_hotel_Resort',\n",
      "       'type_hotel_Resort Villa', 'type_hotel_Ryokan',\n",
      "       'type_hotel_Serviced Apartment', 'type_hotel_Tent',\n",
      "       'type_hotel_UNKNOWN', 'is_cancelled'],\n",
      "      dtype='object')\n"
     ]
    }
   ],
   "source": [
    "dummy_3 = pd.get_dummies(data_frame['accommadation_type_name'], prefix=\"type_hotel\")\n",
    "dummy_3['is_cancelled'] = data_frame['is_cancelled']\n",
    "print(dummy_3.columns)\n",
    "for col in dummy_3:\n",
    "    if(dummy_3[col].sum() < 100):\n",
    "        dummy_3.drop(col, inplace=True, axis=1)\n",
    "for col in dummy_3:\n",
    "    if(col == 'is_cancelled'):\n",
    "        continue\n",
    "    if(np.abs(dummy_3['is_cancelled'].corr(dummy_3[col])) < 0.01):\n",
    "        dummy_3.drop(col, inplace=True, axis=1)\n",
    "#data_frame = pd.concat([data_frame, dummy], axis=1)\n",
    "# print the correlation between the features and the is_cancelled column\n",
    "dummy_3.drop('is_cancelled', inplace=True, axis=1)\n"
   ],
   "metadata": {
    "collapsed": false,
    "pycharm": {
     "name": "#%%\n"
    }
   }
  },
  {
   "cell_type": "code",
   "execution_count": 28,
   "outputs": [
    {
     "name": "stdout",
     "output_type": "stream",
     "text": [
      "Index(['hotel_star_rating', 'accommadation_type_name', 'charge_option',\n",
      "       'no_of_adults', 'no_of_children', 'request_extra_bed', 'no_of_room',\n",
      "       'original_selling_amount', 'original_payment_type', 'is_user_logged_in',\n",
      "       'is_first_booking', 'number_of_requests', 'is_cancelled',\n",
      "       'hotel_brand_code', 'hotel_chain_code', 'hotel_city_code',\n",
      "       'cancel_policy_0D0N', 'cancel_policy_14D100P',\n",
      "       'cancel_policy_1D0N_100P', 'cancel_policy_1D100P',\n",
      "       'cancel_policy_1D100P_100P', 'cancel_policy_1D1N_100P',\n",
      "       'cancel_policy_1D1N_1N', 'cancel_policy_1D20P_100P',\n",
      "       'cancel_policy_1D50P_100P', 'cancel_policy_2D100P',\n",
      "       'cancel_policy_2D100P_100P', 'cancel_policy_2D1N_1N',\n",
      "       'cancel_policy_365D100P_100P', 'cancel_policy_3D100P',\n",
      "       'cancel_policy_3D100P_100P', 'cancel_policy_3D1N_100P',\n",
      "       'cancel_policy_3D50P_100P', 'cancel_policy_5D100P_100P',\n",
      "       'cancel_policy_7D100P', 'cancel_policy_7D100P_100P', 'Lead_day',\n",
      "       'stay_len', 'origin_country_code_AE', 'origin_country_code_AU',\n",
      "       'origin_country_code_DE', 'origin_country_code_ES',\n",
      "       'origin_country_code_HK', 'origin_country_code_ID',\n",
      "       'origin_country_code_JP', 'origin_country_code_KR',\n",
      "       'origin_country_code_MO', 'origin_country_code_MY',\n",
      "       'origin_country_code_RU', 'origin_country_code_SA',\n",
      "       'origin_country_code_SG', 'origin_country_code_TH',\n",
      "       'origin_country_code_TR', 'origin_country_code_TW',\n",
      "       'origin_country_code_US', 'origin_country_code_VN',\n",
      "       'guest_national_Australia', 'guest_national_Brunei Darussalam',\n",
      "       'guest_national_China', 'guest_national_France',\n",
      "       'guest_national_Germany', 'guest_national_Hong Kong',\n",
      "       'guest_national_Indonesia', 'guest_national_Japan',\n",
      "       'guest_national_Macau', 'guest_national_Malaysia',\n",
      "       'guest_national_New Zealand', 'guest_national_Norway',\n",
      "       'guest_national_Pakistan', 'guest_national_Russia',\n",
      "       'guest_national_Saudi Arabia', 'guest_national_Singapore',\n",
      "       'guest_national_South Korea', 'guest_national_Spain',\n",
      "       'guest_national_Switzerland', 'guest_national_Taiwan',\n",
      "       'guest_national_Thailand', 'guest_national_Turkey',\n",
      "       'guest_national_United States', 'type_hotel_Apartment',\n",
      "       'type_hotel_Bungalow', 'type_hotel_Guest House / Bed & Breakfast',\n",
      "       'type_hotel_Home', 'type_hotel_Hostel', 'type_hotel_Hotel',\n",
      "       'type_hotel_Resort', 'type_hotel_Ryokan',\n",
      "       'type_hotel_Serviced Apartment', 'type_hotel_Apartment',\n",
      "       'type_hotel_Bungalow', 'type_hotel_Guest House / Bed & Breakfast',\n",
      "       'type_hotel_Home', 'type_hotel_Hostel', 'type_hotel_Hotel',\n",
      "       'type_hotel_Resort', 'type_hotel_Ryokan',\n",
      "       'type_hotel_Serviced Apartment'],\n",
      "      dtype='object')\n",
      "<class 'pandas.core.frame.DataFrame'>\n",
      "RangeIndex: 58659 entries, 0 to 58658\n",
      "Data columns (total 97 columns):\n",
      " #   Column                                    Non-Null Count  Dtype  \n",
      "---  ------                                    --------------  -----  \n",
      " 0   hotel_star_rating                         58659 non-null  float64\n",
      " 1   accommadation_type_name                   58659 non-null  object \n",
      " 2   charge_option                             58659 non-null  int64  \n",
      " 3   no_of_adults                              58659 non-null  int64  \n",
      " 4   no_of_children                            58659 non-null  int64  \n",
      " 5   request_extra_bed                         58659 non-null  int64  \n",
      " 6   no_of_room                                58659 non-null  int64  \n",
      " 7   original_selling_amount                   58659 non-null  float64\n",
      " 8   original_payment_type                     58659 non-null  int64  \n",
      " 9   is_user_logged_in                         58659 non-null  bool   \n",
      " 10  is_first_booking                          58659 non-null  bool   \n",
      " 11  number_of_requests                        58659 non-null  int64  \n",
      " 12  is_cancelled                              58659 non-null  float64\n",
      " 13  hotel_brand_code                          15303 non-null  float64\n",
      " 14  hotel_chain_code                          15757 non-null  float64\n",
      " 15  hotel_city_code                           58659 non-null  int64  \n",
      " 16  cancel_policy_0D0N                        58659 non-null  uint8  \n",
      " 17  cancel_policy_14D100P                     58659 non-null  uint8  \n",
      " 18  cancel_policy_1D0N_100P                   58659 non-null  uint8  \n",
      " 19  cancel_policy_1D100P                      58659 non-null  uint8  \n",
      " 20  cancel_policy_1D100P_100P                 58659 non-null  uint8  \n",
      " 21  cancel_policy_1D1N_100P                   58659 non-null  uint8  \n",
      " 22  cancel_policy_1D1N_1N                     58659 non-null  uint8  \n",
      " 23  cancel_policy_1D20P_100P                  58659 non-null  uint8  \n",
      " 24  cancel_policy_1D50P_100P                  58659 non-null  uint8  \n",
      " 25  cancel_policy_2D100P                      58659 non-null  uint8  \n",
      " 26  cancel_policy_2D100P_100P                 58659 non-null  uint8  \n",
      " 27  cancel_policy_2D1N_1N                     58659 non-null  uint8  \n",
      " 28  cancel_policy_365D100P_100P               58659 non-null  uint8  \n",
      " 29  cancel_policy_3D100P                      58659 non-null  uint8  \n",
      " 30  cancel_policy_3D100P_100P                 58659 non-null  uint8  \n",
      " 31  cancel_policy_3D1N_100P                   58659 non-null  uint8  \n",
      " 32  cancel_policy_3D50P_100P                  58659 non-null  uint8  \n",
      " 33  cancel_policy_5D100P_100P                 58659 non-null  uint8  \n",
      " 34  cancel_policy_7D100P                      58659 non-null  uint8  \n",
      " 35  cancel_policy_7D100P_100P                 58659 non-null  uint8  \n",
      " 36  Lead_day                                  58659 non-null  int64  \n",
      " 37  stay_len                                  58659 non-null  int64  \n",
      " 38  origin_country_code_AE                    58659 non-null  uint8  \n",
      " 39  origin_country_code_AU                    58659 non-null  uint8  \n",
      " 40  origin_country_code_DE                    58659 non-null  uint8  \n",
      " 41  origin_country_code_ES                    58659 non-null  uint8  \n",
      " 42  origin_country_code_HK                    58659 non-null  uint8  \n",
      " 43  origin_country_code_ID                    58659 non-null  uint8  \n",
      " 44  origin_country_code_JP                    58659 non-null  uint8  \n",
      " 45  origin_country_code_KR                    58659 non-null  uint8  \n",
      " 46  origin_country_code_MO                    58659 non-null  uint8  \n",
      " 47  origin_country_code_MY                    58659 non-null  uint8  \n",
      " 48  origin_country_code_RU                    58659 non-null  uint8  \n",
      " 49  origin_country_code_SA                    58659 non-null  uint8  \n",
      " 50  origin_country_code_SG                    58659 non-null  uint8  \n",
      " 51  origin_country_code_TH                    58659 non-null  uint8  \n",
      " 52  origin_country_code_TR                    58659 non-null  uint8  \n",
      " 53  origin_country_code_TW                    58659 non-null  uint8  \n",
      " 54  origin_country_code_US                    58659 non-null  uint8  \n",
      " 55  origin_country_code_VN                    58659 non-null  uint8  \n",
      " 56  guest_national_Australia                  58659 non-null  uint8  \n",
      " 57  guest_national_Brunei Darussalam          58659 non-null  uint8  \n",
      " 58  guest_national_China                      58659 non-null  uint8  \n",
      " 59  guest_national_France                     58659 non-null  uint8  \n",
      " 60  guest_national_Germany                    58659 non-null  uint8  \n",
      " 61  guest_national_Hong Kong                  58659 non-null  uint8  \n",
      " 62  guest_national_Indonesia                  58659 non-null  uint8  \n",
      " 63  guest_national_Japan                      58659 non-null  uint8  \n",
      " 64  guest_national_Macau                      58659 non-null  uint8  \n",
      " 65  guest_national_Malaysia                   58659 non-null  uint8  \n",
      " 66  guest_national_New Zealand                58659 non-null  uint8  \n",
      " 67  guest_national_Norway                     58659 non-null  uint8  \n",
      " 68  guest_national_Pakistan                   58659 non-null  uint8  \n",
      " 69  guest_national_Russia                     58659 non-null  uint8  \n",
      " 70  guest_national_Saudi Arabia               58659 non-null  uint8  \n",
      " 71  guest_national_Singapore                  58659 non-null  uint8  \n",
      " 72  guest_national_South Korea                58659 non-null  uint8  \n",
      " 73  guest_national_Spain                      58659 non-null  uint8  \n",
      " 74  guest_national_Switzerland                58659 non-null  uint8  \n",
      " 75  guest_national_Taiwan                     58659 non-null  uint8  \n",
      " 76  guest_national_Thailand                   58659 non-null  uint8  \n",
      " 77  guest_national_Turkey                     58659 non-null  uint8  \n",
      " 78  guest_national_United States              58659 non-null  uint8  \n",
      " 79  type_hotel_Apartment                      58659 non-null  uint8  \n",
      " 80  type_hotel_Bungalow                       58659 non-null  uint8  \n",
      " 81  type_hotel_Guest House / Bed & Breakfast  58659 non-null  uint8  \n",
      " 82  type_hotel_Home                           58659 non-null  uint8  \n",
      " 83  type_hotel_Hostel                         58659 non-null  uint8  \n",
      " 84  type_hotel_Hotel                          58659 non-null  uint8  \n",
      " 85  type_hotel_Resort                         58659 non-null  uint8  \n",
      " 86  type_hotel_Ryokan                         58659 non-null  uint8  \n",
      " 87  type_hotel_Serviced Apartment             58659 non-null  uint8  \n",
      " 88  type_hotel_Apartment                      58659 non-null  uint8  \n",
      " 89  type_hotel_Bungalow                       58659 non-null  uint8  \n",
      " 90  type_hotel_Guest House / Bed & Breakfast  58659 non-null  uint8  \n",
      " 91  type_hotel_Home                           58659 non-null  uint8  \n",
      " 92  type_hotel_Hostel                         58659 non-null  uint8  \n",
      " 93  type_hotel_Hotel                          58659 non-null  uint8  \n",
      " 94  type_hotel_Resort                         58659 non-null  uint8  \n",
      " 95  type_hotel_Ryokan                         58659 non-null  uint8  \n",
      " 96  type_hotel_Serviced Apartment             58659 non-null  uint8  \n",
      "dtypes: bool(2), float64(5), int64(10), object(1), uint8(79)\n",
      "memory usage: 11.7+ MB\n",
      "None\n",
      "hotel_star_rating                0\n",
      "accommadation_type_name          0\n",
      "charge_option                    0\n",
      "no_of_adults                     0\n",
      "no_of_children                   0\n",
      "                                ..\n",
      "type_hotel_Hostel                0\n",
      "type_hotel_Hotel                 0\n",
      "type_hotel_Resort                0\n",
      "type_hotel_Ryokan                0\n",
      "type_hotel_Serviced Apartment    0\n",
      "Length: 97, dtype: int64\n"
     ]
    }
   ],
   "source": [
    "data_frame = pd.concat([data_frame, dummy_3], axis=1)\n",
    "# print the correlation between the features and the is_cancelled column\n",
    "print(data_frame.columns)\n",
    "print(data_frame.info())\n",
    "print(data_frame.isnull().sum())\n"
   ],
   "metadata": {
    "collapsed": false,
    "pycharm": {
     "name": "#%%\n"
    }
   }
  },
  {
   "cell_type": "code",
   "execution_count": 29,
   "outputs": [],
   "source": [
    "data_frame.drop(['accommadation_type_name'], axis=1, inplace=True)"
   ],
   "metadata": {
    "collapsed": false,
    "pycharm": {
     "name": "#%%\n"
    }
   }
  },
  {
   "cell_type": "markdown",
   "source": [],
   "metadata": {
    "collapsed": false
   }
  },
  {
   "cell_type": "code",
   "execution_count": 30,
   "outputs": [],
   "source": [
    "data_frame.to_csv('data_frame_final.csv')"
   ],
   "metadata": {
    "collapsed": false,
    "pycharm": {
     "name": "#%%\n"
    }
   }
  }
 ],
 "metadata": {
  "kernelspec": {
   "display_name": "Python 3",
   "language": "python",
   "name": "python3"
  },
  "language_info": {
   "codemirror_mode": {
    "name": "ipython",
    "version": 2
   },
   "file_extension": ".py",
   "mimetype": "text/x-python",
   "name": "python",
   "nbconvert_exporter": "python",
   "pygments_lexer": "ipython2",
   "version": "2.7.6"
  }
 },
 "nbformat": 4,
 "nbformat_minor": 0
}