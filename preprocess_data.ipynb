{
 "cells": [
  {
   "cell_type": "code",
   "execution_count": 218,
   "metadata": {
    "collapsed": true,
    "pycharm": {
     "name": "#%%\n"
    }
   },
   "outputs": [],
   "source": [
    "import numpy as np\n",
    "import pandas as pd\n",
    "from sklearn.model_selection import train_test_split\n",
    "from sklearn.preprocessing import StandardScaler\n",
    "import featurewiz as fw\n",
    "from sklearn.ensemble import RandomForestClassifier\n",
    "from sklearn.metrics import roc_curve, auc, roc_auc_score\n",
    "from sklearn.feature_selection import SelectFromModel\n",
    "from sklearn.feature_selection import SelectKBest\n",
    "from sklearn.feature_selection import chi2\n",
    "from sklearn.neighbors import KNeighborsClassifier\n",
    "from sklearn.linear_model import LogisticRegression\n",
    "import matplotlib.pyplot as plt\n",
    "from sklearn.model_selection import cross_val_score"
   ]
  },
  {
   "cell_type": "code",
   "execution_count": 219,
   "outputs": [],
   "source": [
    "test_data = pd.read_csv(\"C:\\\\Users\\omerl\\OneDrive\\Documents\\GitHub\\Data_challenge_IML\\\\test_set_week_1.csv\")\n",
    "test_data['charge_option'] = test_data['charge_option'].apply(lambda x: 1 if x == 'Pay Now' else 0)"
   ],
   "metadata": {
    "collapsed": false,
    "pycharm": {
     "name": "#%%\n"
    }
   }
  },
  {
   "cell_type": "code",
   "execution_count": 220,
   "outputs": [
    {
     "name": "stdout",
     "output_type": "stream",
     "text": [
      "0    58113\n",
      "1      475\n",
      "Name: is_cancelled, dtype: int64\n"
     ]
    }
   ],
   "source": [
    "train_data = pd.read_csv('train_data.csv')\n",
    "print(train_data['is_cancelled'].value_counts())"
   ],
   "metadata": {
    "collapsed": false,
    "pycharm": {
     "name": "#%%\n"
    }
   }
  },
  {
   "cell_type": "code",
   "execution_count": 221,
   "outputs": [],
   "source": [
    "test_data = test_data.drop(['h_customer_id', 'h_booking_id', 'hotel_area_code'], axis=1)\n",
    "test_data = test_data.drop(['original_payment_method', 'language','original_payment_currency'], axis=1)"
   ],
   "metadata": {
    "collapsed": false,
    "pycharm": {
     "name": "#%%\n"
    }
   }
  },
  {
   "cell_type": "code",
   "execution_count": 222,
   "outputs": [],
   "source": [
    "test_data['request_nonesmoke'] = test_data['request_nonesmoke'].fillna(0)\n",
    "test_data['request_earlycheckin'] = test_data['request_earlycheckin'].fillna(0)\n",
    "test_data['request_latecheckin'] = test_data['request_latecheckin'].fillna(0)\n",
    "test_data['request_twinbeds'] = test_data['request_twinbeds'].fillna(0)\n",
    "test_data['request_largebed'] = test_data['request_largebed'].fillna(0)\n",
    "test_data['request_airport'] = test_data['request_airport'].fillna(0)\n",
    "test_data['request_highfloor'] = test_data['request_highfloor'].fillna(0)\n",
    "test_data['no_of_extra_bed'] = test_data['no_of_extra_bed'].apply(lambda x: 1 if x>=1 else 0)\n",
    "test_data = test_data.rename(columns = {'no_of_extra_bed':'request_extra_bed'})\n",
    "### merge all request_* columns into one column\n",
    "test_data['request_twinbeds'] = test_data['request_largebed'] + test_data['request_twinbeds'] + test_data['request_airport'] + test_data['request_highfloor'] + test_data['request_earlycheckin'] + test_data['request_latecheckin'] + test_data['request_nonesmoke']\n",
    "# rename the request_twinbeds column to number_of_requests\n",
    "test_data = test_data.rename(columns = {'request_twinbeds':'number_of_requests'})\n",
    "test_data['number_of_requests'] = test_data['number_of_requests'].apply(lambda x: 0 if x < 1 else 1)\n",
    "test_data.drop(['request_largebed', 'request_airport', 'request_highfloor', 'request_earlycheckin', 'request_latecheckin', 'request_nonesmoke'], axis=1, inplace=True)"
   ],
   "metadata": {
    "collapsed": false,
    "pycharm": {
     "name": "#%%\n"
    }
   }
  },
  {
   "cell_type": "code",
   "execution_count": 223,
   "outputs": [
    {
     "name": "stdout",
     "output_type": "stream",
     "text": [
      "(700, 685)\n",
      "(700, 303)\n"
     ]
    }
   ],
   "source": [
    "dummy_cancellation = pd.get_dummies(test_data['cancellation_policy_code'],prefix=\"cancel_policy\")\n",
    "dummy_origin = pd.get_dummies(test_data['origin_country_code'], prefix=\"origin_country_code\")\n",
    "dummy_nationality = pd.get_dummies(test_data['guest_nationality_country_name'], prefix=\"guest_national\")\n",
    "dummy_hotel_type = pd.get_dummies(test_data['accommadation_type_name'], prefix=\"type_hotel\")\n",
    "dummy_brand_code = pd.get_dummies(test_data['hotel_brand_code'], prefix=\"hotel_brand\")\n",
    "dummy_chain_code = pd.get_dummies(test_data['hotel_chain_code'], prefix=\"hotel_chain\")\n",
    "dummy_city = pd.get_dummies(test_data['hotel_city_code'], prefix=\"hotel_city\")\n",
    "dummy_all = pd.concat([dummy_cancellation, dummy_origin,dummy_nationality,dummy_hotel_type,dummy_city, dummy_chain_code, dummy_brand_code], axis=1)\n",
    "print(dummy_all.shape)\n",
    "for col in dummy_all:\n",
    "    if(col not in train_data.columns):\n",
    "        dummy_all.drop([col], axis=1, inplace=True)\n",
    "# concat dummy_all and test_data\n",
    "print(dummy_all.shape)\n",
    "test_data = pd.concat([test_data, dummy_all], axis=1)"
   ],
   "metadata": {
    "collapsed": false,
    "pycharm": {
     "name": "#%%delete_columns = []\n"
    }
   }
  },
  {
   "cell_type": "code",
   "execution_count": 224,
   "outputs": [],
   "source": [
    "test_data['checkin_date'] = test_data['checkin_date'].apply(pd.to_datetime)\n",
    "test_data['checkout_date'] = test_data['checkout_date'].apply(pd.to_datetime)\n",
    "test_data['booking_datetime'] = test_data['booking_datetime'].apply(pd.to_datetime)\n",
    "# insert new column with the difference in days between the Booking_datetime and the checkin_date\n",
    "test_data['Lead_day'] = (test_data['checkin_date'] - test_data['booking_datetime']).dt.days\n",
    "test_data['stay_len'] = (test_data['checkout_date'] - test_data['checkin_date']).dt.days\n",
    "# replace all the negative values with 0\n",
    "test_data['Lead_day'] = test_data['Lead_day'].apply(lambda x: 0 if x < 0 else x)\n",
    "test_data['stay_len'] = test_data['stay_len'].apply(lambda x: 0 if x < 0 else x)"
   ],
   "metadata": {
    "collapsed": false,
    "pycharm": {
     "name": "#%%\n"
    }
   }
  },
  {
   "cell_type": "code",
   "execution_count": 225,
   "outputs": [],
   "source": [
    "test_data['original_payment_type'] = test_data['original_payment_type'].apply(lambda x: 0 if x == 'Credit Card' else 1)"
   ],
   "metadata": {
    "collapsed": false,
    "pycharm": {
     "name": "#%%\n"
    }
   }
  },
  {
   "cell_type": "code",
   "execution_count": 226,
   "outputs": [],
   "source": [
    "test_data.drop(['cancellation_policy_code', 'checkout_date', 'origin_country_code','guest_nationality_country_name','hotel_id','hotel_live_date', 'hotel_country_code','hotel_live_date','customer_nationality', 'guest_nationality_country_name',\n",
    "                 'origin_country_code'], axis=1, inplace=True)\n",
    "test_data.drop(['hotel_brand_code', 'hotel_chain_code', 'hotel_city_code', 'accommadation_type_name','booking_datetime', 'checkin_date'], axis=1, inplace=True)"
   ],
   "metadata": {
    "collapsed": false,
    "pycharm": {
     "name": "#%%\n"
    }
   }
  },
  {
   "cell_type": "code",
   "execution_count": 227,
   "outputs": [
    {
     "name": "stdout",
     "output_type": "stream",
     "text": [
      "(700, 317)\n"
     ]
    }
   ],
   "source": [
    "# print the shape of the train data\n",
    "print(test_data.shape)"
   ],
   "metadata": {
    "collapsed": false,
    "pycharm": {
     "name": "#%%\n"
    }
   }
  },
  {
   "cell_type": "code",
   "execution_count": 228,
   "outputs": [],
   "source": [
    "for col in train_data.columns:\n",
    "    if col == 'is_cancelled':\n",
    "        continue\n",
    "    if col not in test_data.columns:\n",
    "        train_data.drop([col],axis=1 ,inplace=True)"
   ],
   "metadata": {
    "collapsed": false,
    "pycharm": {
     "name": "#%%\n"
    }
   }
  },
  {
   "cell_type": "code",
   "execution_count": 229,
   "outputs": [
    {
     "name": "stdout",
     "output_type": "stream",
     "text": [
      "(700, 317)\n",
      "(58588, 318)\n"
     ]
    }
   ],
   "source": [
    "print(test_data.shape)\n",
    "print(train_data.shape)"
   ],
   "metadata": {
    "collapsed": false,
    "pycharm": {
     "name": "#%%\n"
    }
   }
  },
  {
   "cell_type": "code",
   "execution_count": 245,
   "outputs": [
    {
     "name": "stdout",
     "output_type": "stream",
     "text": [
      "(52729, 317) (5859, 317) (52729,) (5859,)\n",
      "Index(['hotel_star_rating', 'charge_option', 'guest_is_not_the_customer',\n",
      "       'no_of_adults', 'no_of_children', 'request_extra_bed', 'no_of_room',\n",
      "       'original_selling_amount', 'original_payment_type', 'is_user_logged_in',\n",
      "       ...\n",
      "       'hotel_city_2538', 'hotel_city_2547', 'hotel_city_2561',\n",
      "       'hotel_city_2567', 'hotel_city_2633', 'hotel_city_2649',\n",
      "       'hotel_city_2667', 'hotel_city_2737', 'hotel_city_2797',\n",
      "       'hotel_city_2799'],\n",
      "      dtype='object', length=317)\n",
      "False\n",
      "False\n"
     ]
    }
   ],
   "source": [
    "# split the data into train and test\n",
    "X_train, X_test, y_train, y_test = train_test_split(train_data.drop(['is_cancelled'], axis=1), train_data['is_cancelled'], train_size=0.9, test_size=0.1, random_state=0)\n",
    "print(X_train.shape, X_test.shape, y_train.shape, y_test.shape)"
   ],
   "metadata": {
    "collapsed": false,
    "pycharm": {
     "name": "#%%\n"
    }
   }
  },
  {
   "cell_type": "code",
   "execution_count": 246,
   "outputs": [],
   "source": [
    "from sklearn.linear_model import LogisticRegression\n",
    "model_logistic = LogisticRegression()\n",
    "model_logistic.fit(X_train, y_train)\n",
    "\n",
    "y_pred_logistic = model_logistic.predict_proba(X_test)[:,1]"
   ],
   "metadata": {
    "collapsed": false,
    "pycharm": {
     "name": "#%%\n"
    }
   }
  },
  {
   "cell_type": "code",
   "execution_count": 247,
   "outputs": [],
   "source": [
    "from sklearn.neighbors import KNeighborsClassifier\n",
    "neigh = KNeighborsClassifier(n_neighbors=5)\n",
    "neigh.fit(X_train, y_train)\n",
    "y_pred_neigh = neigh.predict_proba(X_test)[:,1]"
   ],
   "metadata": {
    "collapsed": false,
    "pycharm": {
     "name": "#%%\n"
    }
   }
  },
  {
   "cell_type": "code",
   "execution_count": 248,
   "outputs": [],
   "source": [
    "X_train = train_data.drop(['is_cancelled'], axis=1)\n",
    "y_train = train_data['is_cancelled']\n",
    "forest = RandomForestClassifier(n_estimators=190,criterion='entropy')\n",
    "forest.fit(X_train, y_train)\n",
    "y = forest.predict_proba(X_test)[:,1]\n",
    "# prediction on the training data check if things are making sense"
   ],
   "metadata": {
    "collapsed": false,
    "pycharm": {
     "name": "#%%\n"
    }
   }
  },
  {
   "cell_type": "code",
   "execution_count": 249,
   "outputs": [
    {
     "data": {
      "text/plain": "array([0.        , 0.        , 0.00526316, ..., 0.        , 0.        ,\n       0.00526316])"
     },
     "execution_count": 249,
     "metadata": {},
     "output_type": "execute_result"
    }
   ],
   "source": [
    "y"
   ],
   "metadata": {
    "collapsed": false,
    "pycharm": {
     "name": "#%%\n"
    }
   }
  },
  {
   "cell_type": "code",
   "execution_count": 234,
   "outputs": [
    {
     "data": {
      "text/plain": "<Figure size 500x500 with 1 Axes>",
      "image/png": "[encoded data removed]"
     },
     "metadata": {
      "needs_background": "light"
     },
     "output_type": "display_data"
    }
   ],
   "source": [
    "from sklearn.metrics import roc_curve, auc, roc_auc_score\n",
    "y_pred_logistic = y_pred_logistic\n",
    "y_pred_neigh = y_pred_neigh\n",
    "y_pred_forest_1= y\n",
    "\n",
    "logistic_fpr, logistic_tpr, threshold_test = roc_curve(y_test, y_pred_logistic)\n",
    "auc_logistic = roc_auc_score(y_test, y_pred_logistic)\n",
    "\n",
    "neigh_fpr, neigh_tpr, neigh_threshold = roc_curve(y_test, y_pred_neigh)\n",
    "auc_neigh = roc_auc_score(y_test, y_pred_neigh)\n",
    "\n",
    "forest_fpr, forest_tpr, forest_threshold = roc_curve(y_test, y_pred_forest_1)\n",
    "auc_forest = roc_auc_score(y_test, y_pred_forest_1)\n",
    "\n",
    "plt.figure(figsize=(5, 5), dpi=100)\n",
    "# plt.plot(svm_fpr, svm_tpr, linestyle='-', label='SVM (auc = %0.3f)' % auc_svm)\n",
    "plt.plot(logistic_fpr, logistic_tpr, marker='.', label='Logistic (auc = %0.3f)' % auc_logistic)\n",
    "plt.plot(neigh_fpr, neigh_tpr, marker='.', label='neigh (auc = %0.3f)' % auc_neigh)\n",
    "plt.plot(forest_fpr, forest_tpr, marker='.', label='forest (auc = %0.3f)' % auc_forest)\n",
    "\n",
    "plt.xlabel('False Positive Rate -->')\n",
    "plt.ylabel('True Positive Rate -->')\n",
    "\n",
    "plt.legend()\n",
    "\n",
    "plt.show()"
   ],
   "metadata": {
    "collapsed": false,
    "pycharm": {
     "name": "#%%\n"
    }
   }
  },
  {
   "cell_type": "code",
   "execution_count": 235,
   "outputs": [],
   "source": [
    "X_train = train_data.drop(['is_cancelled'], axis=1)\n",
    "y_train = train_data['is_cancelled']\n",
    "forest = RandomForestClassifier(n_estimators=190,criterion='entropy')\n",
    "forest.fit(X_train, y_train)\n",
    "y_pred_test = forest.predict(test_data)\n"
   ],
   "metadata": {
    "collapsed": false,
    "pycharm": {
     "name": "#%%\n"
    }
   }
  },
  {
   "cell_type": "code",
   "execution_count": 236,
   "outputs": [
    {
     "name": "stdout",
     "output_type": "stream",
     "text": [
      "(700,)\n"
     ]
    }
   ],
   "source": [
    "\n",
    "print(y_pred_test.shape)"
   ],
   "metadata": {
    "collapsed": false,
    "pycharm": {
     "name": "#%%\n"
    }
   }
  },
  {
   "cell_type": "code",
   "execution_count": 237,
   "outputs": [
    {
     "name": "stdout",
     "output_type": "stream",
     "text": [
      "AUC Score is:  1.0\n",
      "False\n",
      "[0 0 0 0 0 0 0 0 0 0 0 0 0 0 0 0 0 0 0 0 0 0 0 0 0 0 0 0 0 0 0 0 0 0 0 0 0\n",
      " 0 0 0 0 0 0 0 0 0 0 0 0 0 0 0 0 0 0 0 0 0 0 0 0 0 0 0 0 0 0 0 0 0 0 0 0 0\n",
      " 0 0 0 0 0 0 0 0 0 0 0 0 0 0 0 0 0 0 0 0 0 0 0 0 0 0 0 0 0 0 0 0 0 0 0 0 0\n",
      " 0 0 0 0 0 0 0 0 0 0 0 0 0 0 0 0 0 0 0 0 0 0 0 0 0 0 0 0 0 0 0 0 0 0 0 0 0\n",
      " 0 0 0 0 0 0 0 0 0 0 0 0 0 0 0 0 0 0 0 0 0 0 0 0 0 0 0 0 0 0 0 0 0 0 0 0 0\n",
      " 0 0 0 0 0 0 0 0 0 0 0 0 0 0 0 0 0 0 0 0 0 0 0 0 0 0 0 0 0 0 0 0 0 0 0 0 0\n",
      " 0 0 0 0 0 0 0 0 0 0 0 0 0 0 0 0 0 0 0 0 0 0 0 0 0 0 0 0 0 0 0 0 0 0 0 0 0\n",
      " 0 0 0 0 0 0 0 0 0 0 0 0 0 0 0 0 0 0 0 0 0 0 0 0 0 0 0 0 0 0 0 0 0 0 0 0 0\n",
      " 0 0 0 0 0 0 0 0 0 0 0 0 0 0 0 0 0 0 0 0 0 0 0 0 0 0 0 0 0 0 0 0 0 0 0 0 0\n",
      " 0 0 0 0 0 0 0 0 0 0 0 0 0 0 0 0 0 0 0 0 0 0 0 0 0 0 0 0 0 0 0 0 0 0 0 0 0\n",
      " 0 0 0 0 0 0 0 0 0 0 0 0 0 0 0 0 0 0 0 0 0 0 0 0 0 0 0 0 0 0 0 0 0 0 0 0 0\n",
      " 0 0 0 0 0 0 0 0 0 0 0 0 0 0 0 0 0 0 0 0 0 0 0 0 0 0 0 0 0 0 0 0 0 0 0 0 0\n",
      " 0 0 0 0 0 0 0 0 0 0 0 0 0 0 0 0 0 0 0 0 0 0 0 0 0 0 0 0 0 0 0 0 0 0 0 0 0\n",
      " 0 0 0 0 0 0 0 0 0 0 0 0 0 0 0 0 0 0 0 0 0 0 0 0 0 0 0 0 0 0 0 0 0 0 0 0 0\n",
      " 0 0 0 0 0 0 0 0 0 0 0 0 0 0 0 0 0 0 0 0 0 0 0 0 0 0 0 0 0 0 0 0 0 0 0 0 0\n",
      " 0 0 0 0 0 0 0 0 0 0 0 0 0 0 0 0 0 0 0 0 0 0 0 0 0 0 0 0 0 0 0 0 0 0 0 0 0\n",
      " 0 0 0 0 0 0 0 0 0 0 0 0 0 0 0 0 0 0 0 0 0 0 0 0 0 0 0 0 0 0 0 0 0 0 0 0 0\n",
      " 0 0 0 0 0 0 0 0 0 0 0 0 0 0 0 0 0 0 0 0 0 0 0 0 0 0 0 0 0 0 0 0 0 0 0 0 0\n",
      " 0 0 0 0 0 0 0 0 0 0 0 0 0 0 0 0 0 0 0 0 0 0 0 0 0 0 0 0 0 0 0 0 0 0]\n"
     ]
    }
   ],
   "source": [
    "y_train_pred_forest = forest.predict_proba(X_test)[:,1]\n",
    "fpr, tpr, thresholds = roc_curve(y_test, y_train_pred_forest)\n",
    "print(\"AUC Score is: \", roc_auc_score(y_test, y_train_pred_forest))\n",
    "print('is_cancelled' in X_train.columns)\n",
    "print(y_pred_test)"
   ],
   "metadata": {
    "collapsed": false,
    "pycharm": {
     "name": "#%%\n"
    }
   }
  },
  {
   "cell_type": "code",
   "execution_count": 238,
   "outputs": [],
   "source": [
    "# pd.concat([test_data,y_pred_test], axis=1)\n",
    "# after the y_pred_test is ready simply needs to concat and than write it to csv\n",
    "# final_test_result =  pd.concat([test_data,y_pred_test], axis=1)\n",
    "# not sure if we need to return the data after we change his features or the # original data simply after adding the y_pred_test\n",
    "# final_test_result.to_csv(\"submission.csv\")"
   ],
   "metadata": {
    "collapsed": false,
    "pycharm": {
     "name": "#%%\n"
    }
   }
  }
 ],
 "metadata": {
  "kernelspec": {
   "display_name": "Python 3",
   "language": "python",
   "name": "python3"
  },
  "language_info": {
   "codemirror_mode": {
    "name": "ipython",
    "version": 2
   },
   "file_extension": ".py",
   "mimetype": "text/x-python",
   "name": "python",
   "nbconvert_exporter": "python",
   "pygments_lexer": "ipython2",
   "version": "2.7.6"
  }
 },
 "nbformat": 4,
 "nbformat_minor": 0
}